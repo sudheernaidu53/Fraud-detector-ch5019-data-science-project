{
 "cells": [
  {
   "cell_type": "code",
   "execution_count": 6,
   "metadata": {},
   "outputs": [],
   "source": [
    "import numpy as np\n",
    "import scipy.stats as stats\n",
    "import pandas as pd\n",
    "import csv \n",
    "from matplotlib import pyplot\n",
    "from numpy import nan"
   ]
  },
  {
   "cell_type": "code",
   "execution_count": 7,
   "metadata": {
    "scrolled": true
   },
   "outputs": [],
   "source": [
    "DF = pd.read_csv(\"IPL_Twitter_MissingData.csv\")#,header=None)"
   ]
  },
  {
   "cell_type": "markdown",
   "metadata": {},
   "source": [
    "# 1.Finding the no. of missing data samples"
   ]
  },
  {
   "cell_type": "code",
   "execution_count": 8,
   "metadata": {},
   "outputs": [
    {
     "name": "stdout",
     "output_type": "stream",
     "text": [
      "If the column vector (Q1, Q2, X1, X2, X3, X4) represents a sample, then having at least one missing value in the sample includes it in missing values sample. So,238 data samples are missing.\n"
     ]
    }
   ],
   "source": [
    "row_wise_nanvalues = pd.DataFrame(DF.isna().sum(axis = 1))\n",
    "row_missing_value = pd.DataFrame(row_wise_nanvalues[0] > 0)\n",
    "nan_samples = np.sum(row_missing_value[0])\n",
    "print('If the column vector (Q1, Q2, X1, X2, X3, X4) represents a sample, then having at least one missing value in the sample includes it in missing values sample. So,'+ str(nan_samples)+ ' data samples are missing.')"
   ]
  },
  {
   "cell_type": "code",
   "execution_count": 9,
   "metadata": {
    "scrolled": true
   },
   "outputs": [
    {
     "data": {
      "text/html": [
       "<div>\n",
       "<style scoped>\n",
       "    .dataframe tbody tr th:only-of-type {\n",
       "        vertical-align: middle;\n",
       "    }\n",
       "\n",
       "    .dataframe tbody tr th {\n",
       "        vertical-align: top;\n",
       "    }\n",
       "\n",
       "    .dataframe thead th {\n",
       "        text-align: right;\n",
       "    }\n",
       "</style>\n",
       "<table border=\"1\" class=\"dataframe\">\n",
       "  <thead>\n",
       "    <tr style=\"text-align: right;\">\n",
       "      <th></th>\n",
       "      <th>number of values missing from each column</th>\n",
       "    </tr>\n",
       "  </thead>\n",
       "  <tbody>\n",
       "    <tr>\n",
       "      <th>Q1</th>\n",
       "      <td>44</td>\n",
       "    </tr>\n",
       "    <tr>\n",
       "      <th>Q2</th>\n",
       "      <td>45</td>\n",
       "    </tr>\n",
       "    <tr>\n",
       "      <th>X1</th>\n",
       "      <td>36</td>\n",
       "    </tr>\n",
       "    <tr>\n",
       "      <th>X2</th>\n",
       "      <td>55</td>\n",
       "    </tr>\n",
       "    <tr>\n",
       "      <th>X3</th>\n",
       "      <td>67</td>\n",
       "    </tr>\n",
       "    <tr>\n",
       "      <th>X4</th>\n",
       "      <td>41</td>\n",
       "    </tr>\n",
       "  </tbody>\n",
       "</table>\n",
       "</div>"
      ],
      "text/plain": [
       "    number of values missing from each column\n",
       "Q1                                         44\n",
       "Q2                                         45\n",
       "X1                                         36\n",
       "X2                                         55\n",
       "X3                                         67\n",
       "X4                                         41"
      ]
     },
     "execution_count": 9,
     "metadata": {},
     "output_type": "execute_result"
    }
   ],
   "source": [
    "column_wise_nanvalues = pd.DataFrame(DF.isnull().sum(axis = 0))\n",
    "type(column_wise_nanvalues) #data frame\n",
    "column_wise_nanvalues.columns = ['number of values missing from each column']\n",
    "column_wise_nanvalues"
   ]
  },
  {
   "cell_type": "markdown",
   "metadata": {},
   "source": [
    "# 3. Obtaining the linear relationships between the variables(X1, X2, X3, X4)\n",
    "    a*X1+b*X2+c*X3+d=X4"
   ]
  },
  {
   "cell_type": "markdown",
   "metadata": {},
   "source": [
    "# a. For whole data"
   ]
  },
  {
   "cell_type": "code",
   "execution_count": 10,
   "metadata": {},
   "outputs": [],
   "source": [
    "DF = pd.read_csv(\"IPL_Twitter_MissingData.csv\")#,header=None)\n",
    "DF1 = DF.dropna()"
   ]
  },
  {
   "cell_type": "code",
   "execution_count": 11,
   "metadata": {},
   "outputs": [],
   "source": [
    "data_matrix = DF1.values\n",
    "X_4 = data_matrix[:,5]\n",
    "X = data_matrix[:,[2,3,4]]\n",
    "X = np.c_[np.ones((762,1)),X]"
   ]
  },
  {
   "cell_type": "code",
   "execution_count": 12,
   "metadata": {},
   "outputs": [
    {
     "name": "stdout",
     "output_type": "stream",
     "text": [
      "[ 3.47855945e+03  7.83187972e-01  8.27473413e-02 -3.29093424e-01]\n"
     ]
    }
   ],
   "source": [
    "theta = np.matmul(np.linalg.pinv(X),X_4)\n",
    "print(theta)\n"
   ]
  },
  {
   "cell_type": "markdown",
   "metadata": {},
   "source": [
    "# Finding correlation"
   ]
  },
  {
   "cell_type": "code",
   "execution_count": 13,
   "metadata": {},
   "outputs": [
    {
     "data": {
      "text/plain": [
       "array([[ 1.        , -0.40361389, -0.41196742,  0.62970423],\n",
       "       [-0.40361389,  1.        ,  0.60391296, -0.35548608],\n",
       "       [-0.41196742,  0.60391296,  1.        , -0.58395823],\n",
       "       [ 0.62970423, -0.35548608, -0.58395823,  1.        ]])"
      ]
     },
     "execution_count": 13,
     "metadata": {},
     "output_type": "execute_result"
    }
   ],
   "source": [
    "temp_pearsonr= np.zeros([(len(DF1.columns)-2),(len(DF1.columns)-2)])\n",
    "for i in range(0,len(DF1.columns)-2):\n",
    "    for j in range(0,len(DF1.columns)-2):\n",
    "        temp_pearsonr[i,j] = stats.pearsonr(DF1[DF1.columns[i+2]],DF1[DF1.columns[j+2]])[0]\n",
    "temp_pearsonr"
   ]
  },
  {
   "cell_type": "code",
   "execution_count": 253,
   "metadata": {},
   "outputs": [
    {
     "data": {
      "text/plain": [
       "array([[ True, False, False, False],\n",
       "       [False,  True, False, False],\n",
       "       [False, False,  True, False],\n",
       "       [False, False, False,  True]])"
      ]
     },
     "execution_count": 253,
     "metadata": {},
     "output_type": "execute_result"
    }
   ],
   "source": [
    "(temp_pearsonr)>0.75 #strongly +vely linearly correlated ones wiht true"
   ]
  },
  {
   "cell_type": "code",
   "execution_count": 254,
   "metadata": {},
   "outputs": [
    {
     "data": {
      "text/plain": [
       "array([[False, False, False, False],\n",
       "       [False, False, False, False],\n",
       "       [False, False, False, False],\n",
       "       [False, False, False, False]])"
      ]
     },
     "execution_count": 254,
     "metadata": {},
     "output_type": "execute_result"
    }
   ],
   "source": [
    "(temp_pearsonr)<-0.75 #strongly negatively correlated"
   ]
  },
  {
   "cell_type": "code",
   "execution_count": 255,
   "metadata": {},
   "outputs": [
    {
     "data": {
      "text/plain": [
       "array([[False, False, False,  True],\n",
       "       [False, False,  True, False],\n",
       "       [False,  True, False, False],\n",
       "       [ True, False, False, False]])"
      ]
     },
     "execution_count": 255,
     "metadata": {},
     "output_type": "execute_result"
    }
   ],
   "source": [
    "((temp_pearsonr>0.45) & (temp_pearsonr<0.75))  #fairly linearly correlated"
   ]
  },
  {
   "cell_type": "code",
   "execution_count": 256,
   "metadata": {},
   "outputs": [
    {
     "data": {
      "text/plain": [
       "array([[False, False, False, False],\n",
       "       [False, False, False, False],\n",
       "       [False, False, False, False],\n",
       "       [False, False, False, False]])"
      ]
     },
     "execution_count": 256,
     "metadata": {},
     "output_type": "execute_result"
    }
   ],
   "source": [
    "((temp_pearsonr<0.1) & (temp_pearsonr>-0.1)) #barely(not at all) linearly correlated ones wiht true"
   ]
  },
  {
   "cell_type": "code",
   "execution_count": 257,
   "metadata": {},
   "outputs": [
    {
     "data": {
      "text/plain": [
       "array([[False, False, False, False],\n",
       "       [False, False, False, False],\n",
       "       [False, False, False,  True],\n",
       "       [False, False,  True, False]])"
      ]
     },
     "execution_count": 257,
     "metadata": {},
     "output_type": "execute_result"
    }
   ],
   "source": [
    "((temp_pearsonr<-0.45) & (temp_pearsonr>-0.75))  ##fairly linearly negatively correlated"
   ]
  },
  {
   "cell_type": "markdown",
   "metadata": {},
   "source": [
    "# b. If there is no match for both CSK and MI"
   ]
  },
  {
   "cell_type": "code",
   "execution_count": 14,
   "metadata": {
    "scrolled": false
   },
   "outputs": [],
   "source": [
    "df= DF1.replace(1,nan)\n",
    "DF2 = df.dropna()"
   ]
  },
  {
   "cell_type": "code",
   "execution_count": 15,
   "metadata": {},
   "outputs": [],
   "source": [
    "data_matrix1 = DF2.values\n",
    "X_4 = data_matrix1[:,5]\n",
    "X = data_matrix1[:,[2,3,4]]\n",
    "X = np.c_[np.ones((200,1)),X]"
   ]
  },
  {
   "cell_type": "code",
   "execution_count": 16,
   "metadata": {},
   "outputs": [
    {
     "name": "stdout",
     "output_type": "stream",
     "text": [
      "[-0.08227479  1.16667292  1.66670279 -1.33334455]\n"
     ]
    }
   ],
   "source": [
    "theta = np.matmul(np.linalg.pinv(X),X_4)\n",
    "print(theta)\n"
   ]
  },
  {
   "cell_type": "markdown",
   "metadata": {},
   "source": [
    "# Finding Correlation"
   ]
  },
  {
   "cell_type": "code",
   "execution_count": 17,
   "metadata": {},
   "outputs": [
    {
     "data": {
      "text/plain": [
       "array([[ 1.        , -0.0330597 ,  0.16918214,  0.74525807],\n",
       "       [-0.0330597 ,  1.        ,  0.04622996,  0.47564741],\n",
       "       [ 0.16918214,  0.04622996,  1.        , -0.28149956],\n",
       "       [ 0.74525807,  0.47564741, -0.28149956,  1.        ]])"
      ]
     },
     "execution_count": 17,
     "metadata": {},
     "output_type": "execute_result"
    }
   ],
   "source": [
    "temp_pearsonr= np.zeros([(len(DF2.columns)-2),(len(DF2.columns)-2)])\n",
    "for i in range(0,len(DF2.columns)-2):\n",
    "    for j in range(0,len(DF2.columns)-2):\n",
    "        temp_pearsonr[i,j] = stats.pearsonr(DF2[DF2.columns[i+2]],DF2[DF2.columns[j+2]])[0]\n",
    "temp_pearsonr"
   ]
  },
  {
   "cell_type": "code",
   "execution_count": 262,
   "metadata": {},
   "outputs": [
    {
     "data": {
      "text/plain": [
       "array([[ True, False, False, False],\n",
       "       [False,  True, False, False],\n",
       "       [False, False,  True, False],\n",
       "       [False, False, False,  True]])"
      ]
     },
     "execution_count": 262,
     "metadata": {},
     "output_type": "execute_result"
    }
   ],
   "source": [
    "(temp_pearsonr)>0.75 #strongly +vely linearly correlated ones wiht true"
   ]
  },
  {
   "cell_type": "code",
   "execution_count": 263,
   "metadata": {},
   "outputs": [
    {
     "data": {
      "text/plain": [
       "array([[False, False, False, False],\n",
       "       [False, False, False, False],\n",
       "       [False, False, False, False],\n",
       "       [False, False, False, False]])"
      ]
     },
     "execution_count": 263,
     "metadata": {},
     "output_type": "execute_result"
    }
   ],
   "source": [
    "(temp_pearsonr)<-0.75 #strongly negatively correlated"
   ]
  },
  {
   "cell_type": "code",
   "execution_count": 264,
   "metadata": {},
   "outputs": [
    {
     "data": {
      "text/plain": [
       "array([[False, False, False,  True],\n",
       "       [False, False, False,  True],\n",
       "       [False, False, False, False],\n",
       "       [ True,  True, False, False]])"
      ]
     },
     "execution_count": 264,
     "metadata": {},
     "output_type": "execute_result"
    }
   ],
   "source": [
    "((temp_pearsonr>0.45) & (temp_pearsonr<0.75))  #fairly linearly correlated"
   ]
  },
  {
   "cell_type": "code",
   "execution_count": 265,
   "metadata": {},
   "outputs": [
    {
     "data": {
      "text/plain": [
       "array([[False,  True, False, False],\n",
       "       [ True, False,  True, False],\n",
       "       [False,  True, False, False],\n",
       "       [False, False, False, False]])"
      ]
     },
     "execution_count": 265,
     "metadata": {},
     "output_type": "execute_result"
    }
   ],
   "source": [
    "((temp_pearsonr<0.1) & (temp_pearsonr>-0.1)) #barely(not at all) linearly correlated ones wiht true"
   ]
  },
  {
   "cell_type": "code",
   "execution_count": 266,
   "metadata": {},
   "outputs": [
    {
     "data": {
      "text/plain": [
       "array([[False, False, False, False],\n",
       "       [False, False, False, False],\n",
       "       [False, False, False, False],\n",
       "       [False, False, False, False]])"
      ]
     },
     "execution_count": 266,
     "metadata": {},
     "output_type": "execute_result"
    }
   ],
   "source": [
    "((temp_pearsonr<-0.45) & (temp_pearsonr>-0.75))  ##fairly linearly negatively correlated"
   ]
  },
  {
   "cell_type": "markdown",
   "metadata": {},
   "source": [
    "# c. If there is no match for CSK but there is match for MI"
   ]
  },
  {
   "cell_type": "code",
   "execution_count": 18,
   "metadata": {},
   "outputs": [
    {
     "name": "stderr",
     "output_type": "stream",
     "text": [
      "C:\\Users\\ashwi\\AppData\\Local\\Programs\\Python\\Python37-32\\lib\\site-packages\\ipykernel_launcher.py:1: UserWarning: Boolean Series key will be reindexed to match DataFrame index.\n",
      "  \"\"\"Entry point for launching an IPython kernel.\n"
     ]
    }
   ],
   "source": [
    "DFc = DF1[(DF1.Q1 == 0) & (DF.Q2 == 1)]\n"
   ]
  },
  {
   "cell_type": "code",
   "execution_count": 19,
   "metadata": {},
   "outputs": [],
   "source": [
    "data_matrix_c = DFc.values\n",
    "X_4 = data_matrix_c[:,5]\n",
    "X = data_matrix_c[:,[2,3,4]]\n",
    "X = np.c_[np.ones((187,1)),X]"
   ]
  },
  {
   "cell_type": "code",
   "execution_count": 20,
   "metadata": {},
   "outputs": [
    {
     "name": "stdout",
     "output_type": "stream",
     "text": [
      "[-0.1944767  -0.24999005  0.99998699 -0.34997891]\n"
     ]
    }
   ],
   "source": [
    "theta = np.matmul(np.linalg.pinv(X),X_4)\n",
    "print(theta)\n"
   ]
  },
  {
   "cell_type": "markdown",
   "metadata": {},
   "source": [
    "# Finding correlation"
   ]
  },
  {
   "cell_type": "code",
   "execution_count": 21,
   "metadata": {},
   "outputs": [
    {
     "data": {
      "text/plain": [
       "array([[ 1.        ,  0.11529097,  0.07633152, -0.11390326],\n",
       "       [ 0.11529097,  1.        ,  0.12538542,  0.91076194],\n",
       "       [ 0.07633152,  0.12538542,  1.        , -0.24530123],\n",
       "       [-0.11390326,  0.91076194, -0.24530123,  1.        ]])"
      ]
     },
     "execution_count": 21,
     "metadata": {},
     "output_type": "execute_result"
    }
   ],
   "source": [
    "temp_pearsonr= np.zeros([(len(DFc.columns)-2),(len(DFc.columns)-2)])\n",
    "for i in range(0,len(DFc.columns)-2):\n",
    "    for j in range(0,len(DFc.columns)-2):\n",
    "        temp_pearsonr[i,j] = stats.pearsonr(DFc[DFc.columns[i+2]],DFc[DFc.columns[j+2]])[0]\n",
    "temp_pearsonr"
   ]
  },
  {
   "cell_type": "code",
   "execution_count": 271,
   "metadata": {},
   "outputs": [
    {
     "data": {
      "text/plain": [
       "array([[ True, False, False, False],\n",
       "       [False,  True, False,  True],\n",
       "       [False, False,  True, False],\n",
       "       [False,  True, False,  True]])"
      ]
     },
     "execution_count": 271,
     "metadata": {},
     "output_type": "execute_result"
    }
   ],
   "source": [
    "(temp_pearsonr)>0.75 #strongly +vely linearly correlated ones wiht true"
   ]
  },
  {
   "cell_type": "code",
   "execution_count": 272,
   "metadata": {},
   "outputs": [
    {
     "data": {
      "text/plain": [
       "array([[False, False, False, False],\n",
       "       [False, False, False, False],\n",
       "       [False, False, False, False],\n",
       "       [False, False, False, False]])"
      ]
     },
     "execution_count": 272,
     "metadata": {},
     "output_type": "execute_result"
    }
   ],
   "source": [
    "(temp_pearsonr)<-0.75 #strongly negatively correlated"
   ]
  },
  {
   "cell_type": "code",
   "execution_count": 273,
   "metadata": {},
   "outputs": [
    {
     "data": {
      "text/plain": [
       "array([[False, False, False, False],\n",
       "       [False, False, False, False],\n",
       "       [False, False, False, False],\n",
       "       [False, False, False, False]])"
      ]
     },
     "execution_count": 273,
     "metadata": {},
     "output_type": "execute_result"
    }
   ],
   "source": [
    "((temp_pearsonr>0.45) & (temp_pearsonr<0.75))  #fairly linearly correlated"
   ]
  },
  {
   "cell_type": "code",
   "execution_count": 274,
   "metadata": {},
   "outputs": [
    {
     "data": {
      "text/plain": [
       "array([[False, False,  True, False],\n",
       "       [False, False, False, False],\n",
       "       [ True, False, False, False],\n",
       "       [False, False, False, False]])"
      ]
     },
     "execution_count": 274,
     "metadata": {},
     "output_type": "execute_result"
    }
   ],
   "source": [
    "((temp_pearsonr<0.1) & (temp_pearsonr>-0.1)) #barely(not at all) linearly correlated ones wiht true"
   ]
  },
  {
   "cell_type": "code",
   "execution_count": 275,
   "metadata": {},
   "outputs": [
    {
     "data": {
      "text/plain": [
       "array([[False, False, False, False],\n",
       "       [False, False, False, False],\n",
       "       [False, False, False, False],\n",
       "       [False, False, False, False]])"
      ]
     },
     "execution_count": 275,
     "metadata": {},
     "output_type": "execute_result"
    }
   ],
   "source": [
    "((temp_pearsonr<-0.45) & (temp_pearsonr>-0.75))  ##fairly linearly negatively correlated"
   ]
  },
  {
   "cell_type": "markdown",
   "metadata": {},
   "source": [
    "# d. If there is no match for MI but there is match for CSK"
   ]
  },
  {
   "cell_type": "code",
   "execution_count": 22,
   "metadata": {},
   "outputs": [
    {
     "name": "stderr",
     "output_type": "stream",
     "text": [
      "C:\\Users\\ashwi\\AppData\\Local\\Programs\\Python\\Python37-32\\lib\\site-packages\\ipykernel_launcher.py:1: UserWarning: Boolean Series key will be reindexed to match DataFrame index.\n",
      "  \"\"\"Entry point for launching an IPython kernel.\n"
     ]
    }
   ],
   "source": [
    "DFd = DF1[(DF1.Q1 == 1) & (DF.Q2 == 0)]"
   ]
  },
  {
   "cell_type": "code",
   "execution_count": 23,
   "metadata": {},
   "outputs": [],
   "source": [
    "data_matrix_d = DFd.values\n",
    "X_4 = data_matrix_d[:,5]\n",
    "X = data_matrix_d[:,[2,3,4]]\n",
    "X = np.c_[np.ones((175,1)),X]"
   ]
  },
  {
   "cell_type": "code",
   "execution_count": 24,
   "metadata": {},
   "outputs": [
    {
     "name": "stdout",
     "output_type": "stream",
     "text": [
      "[-0.25419187 -0.49997534 -0.66665269  1.7500029 ]\n"
     ]
    }
   ],
   "source": [
    "theta = np.matmul(np.linalg.pinv(X),X_4)\n",
    "print(theta)"
   ]
  },
  {
   "cell_type": "markdown",
   "metadata": {},
   "source": [
    "# Finding Correlation"
   ]
  },
  {
   "cell_type": "code",
   "execution_count": 25,
   "metadata": {},
   "outputs": [
    {
     "data": {
      "text/plain": [
       "array([[ 1.        , -0.06966482,  0.04393471, -0.18180059],\n",
       "       [-0.06966482,  1.        ,  0.13348292, -0.27227738],\n",
       "       [ 0.04393471,  0.13348292,  1.        ,  0.88407857],\n",
       "       [-0.18180059, -0.27227738,  0.88407857,  1.        ]])"
      ]
     },
     "execution_count": 25,
     "metadata": {},
     "output_type": "execute_result"
    }
   ],
   "source": [
    "temp_pearsonr= np.zeros([(len(DFd.columns)-2),(len(DFd.columns)-2)])\n",
    "for i in range(0,len(DFd.columns)-2):\n",
    "    for j in range(0,len(DFd.columns)-2):\n",
    "        temp_pearsonr[i,j] = stats.pearsonr(DFd[DFd.columns[i+2]],DFd[DFd.columns[j+2]])[0]\n",
    "temp_pearsonr"
   ]
  },
  {
   "cell_type": "code",
   "execution_count": 280,
   "metadata": {},
   "outputs": [
    {
     "data": {
      "text/plain": [
       "array([[ True, False, False, False],\n",
       "       [False,  True, False, False],\n",
       "       [False, False,  True,  True],\n",
       "       [False, False,  True,  True]])"
      ]
     },
     "execution_count": 280,
     "metadata": {},
     "output_type": "execute_result"
    }
   ],
   "source": [
    "(temp_pearsonr)>0.75 #strongly +vely linearly correlated ones wiht true"
   ]
  },
  {
   "cell_type": "code",
   "execution_count": 281,
   "metadata": {},
   "outputs": [
    {
     "data": {
      "text/plain": [
       "array([[False, False, False, False],\n",
       "       [False, False, False, False],\n",
       "       [False, False, False, False],\n",
       "       [False, False, False, False]])"
      ]
     },
     "execution_count": 281,
     "metadata": {},
     "output_type": "execute_result"
    }
   ],
   "source": [
    "(temp_pearsonr)<-0.75 #strongly negatively correlated"
   ]
  },
  {
   "cell_type": "code",
   "execution_count": 282,
   "metadata": {},
   "outputs": [
    {
     "data": {
      "text/plain": [
       "array([[False, False, False, False],\n",
       "       [False, False, False, False],\n",
       "       [False, False, False, False],\n",
       "       [False, False, False, False]])"
      ]
     },
     "execution_count": 282,
     "metadata": {},
     "output_type": "execute_result"
    }
   ],
   "source": [
    "((temp_pearsonr>0.45) & (temp_pearsonr<0.75))  #fairly linearly correlated"
   ]
  },
  {
   "cell_type": "code",
   "execution_count": 283,
   "metadata": {},
   "outputs": [
    {
     "data": {
      "text/plain": [
       "array([[False,  True,  True, False],\n",
       "       [ True, False, False, False],\n",
       "       [ True, False, False, False],\n",
       "       [False, False, False, False]])"
      ]
     },
     "execution_count": 283,
     "metadata": {},
     "output_type": "execute_result"
    }
   ],
   "source": [
    "((temp_pearsonr<0.1) & (temp_pearsonr>-0.1)) #barely(not at all) linearly correlated ones wiht true"
   ]
  },
  {
   "cell_type": "code",
   "execution_count": 284,
   "metadata": {},
   "outputs": [
    {
     "data": {
      "text/plain": [
       "array([[False, False, False, False],\n",
       "       [False, False, False, False],\n",
       "       [False, False, False, False],\n",
       "       [False, False, False, False]])"
      ]
     },
     "execution_count": 284,
     "metadata": {},
     "output_type": "execute_result"
    }
   ],
   "source": [
    "((temp_pearsonr<-0.45) & (temp_pearsonr>-0.75))  ##fairly linearly negatively correlated"
   ]
  },
  {
   "cell_type": "markdown",
   "metadata": {},
   "source": [
    "# e. If there is match for both MI and CSK."
   ]
  },
  {
   "cell_type": "code",
   "execution_count": 26,
   "metadata": {},
   "outputs": [],
   "source": [
    "df= DF1.replace(0,nan)\n",
    "DF3 = df.dropna()"
   ]
  },
  {
   "cell_type": "code",
   "execution_count": 27,
   "metadata": {},
   "outputs": [],
   "source": [
    "data_matrix2 = DF3.values\n",
    "X_4 = data_matrix2[:,5]\n",
    "X = data_matrix2[:,[2,3,4]]\n",
    "X = np.c_[np.ones((200,1)),X]"
   ]
  },
  {
   "cell_type": "code",
   "execution_count": 28,
   "metadata": {},
   "outputs": [
    {
     "name": "stdout",
     "output_type": "stream",
     "text": [
      "[ 0.20017767  0.86667819  0.66666002 -0.66667511]\n"
     ]
    }
   ],
   "source": [
    "theta = np.matmul(np.linalg.pinv(X),X_4)\n",
    "print(theta)\n"
   ]
  },
  {
   "cell_type": "code",
   "execution_count": 29,
   "metadata": {},
   "outputs": [
    {
     "data": {
      "text/plain": [
       "array([[ 1.        , -0.1481224 ,  0.00768595,  0.53249234],\n",
       "       [-0.1481224 ,  1.        ,  0.04886459,  0.4872226 ],\n",
       "       [ 0.00768595,  0.04886459,  1.        , -0.5896862 ],\n",
       "       [ 0.53249234,  0.4872226 , -0.5896862 ,  1.        ]])"
      ]
     },
     "execution_count": 29,
     "metadata": {},
     "output_type": "execute_result"
    }
   ],
   "source": [
    "temp_pearsonr= np.zeros([(len(DF3.columns)-2),(len(DF3.columns)-2)])\n",
    "for i in range(0,len(DF3.columns)-2):\n",
    "    for j in range(0,len(DF3.columns)-2):\n",
    "        temp_pearsonr[i,j] = stats.pearsonr(DF3[DF3.columns[i+2]],DF3[DF3.columns[j+2]])[0]\n",
    "temp_pearsonr"
   ]
  },
  {
   "cell_type": "code",
   "execution_count": 289,
   "metadata": {},
   "outputs": [
    {
     "data": {
      "text/plain": [
       "array([[ True, False, False, False],\n",
       "       [False,  True, False, False],\n",
       "       [False, False,  True, False],\n",
       "       [False, False, False,  True]])"
      ]
     },
     "execution_count": 289,
     "metadata": {},
     "output_type": "execute_result"
    }
   ],
   "source": [
    "(temp_pearsonr)>0.75 #strongly +vely linearly correlated ones wiht true"
   ]
  },
  {
   "cell_type": "code",
   "execution_count": 290,
   "metadata": {},
   "outputs": [
    {
     "data": {
      "text/plain": [
       "array([[False, False, False, False],\n",
       "       [False, False, False, False],\n",
       "       [False, False, False, False],\n",
       "       [False, False, False, False]])"
      ]
     },
     "execution_count": 290,
     "metadata": {},
     "output_type": "execute_result"
    }
   ],
   "source": [
    "(temp_pearsonr)<-0.75 #strongly negatively correlated"
   ]
  },
  {
   "cell_type": "code",
   "execution_count": 291,
   "metadata": {},
   "outputs": [
    {
     "data": {
      "text/plain": [
       "array([[False, False, False,  True],\n",
       "       [False, False, False,  True],\n",
       "       [False, False, False, False],\n",
       "       [ True,  True, False, False]])"
      ]
     },
     "execution_count": 291,
     "metadata": {},
     "output_type": "execute_result"
    }
   ],
   "source": [
    "((temp_pearsonr>0.45) & (temp_pearsonr<0.75))  #fairly linearly correlated"
   ]
  },
  {
   "cell_type": "code",
   "execution_count": 292,
   "metadata": {},
   "outputs": [
    {
     "data": {
      "text/plain": [
       "array([[False, False,  True, False],\n",
       "       [False, False,  True, False],\n",
       "       [ True,  True, False, False],\n",
       "       [False, False, False, False]])"
      ]
     },
     "execution_count": 292,
     "metadata": {},
     "output_type": "execute_result"
    }
   ],
   "source": [
    "((temp_pearsonr<0.1) & (temp_pearsonr>-0.1)) #barely(not at all) linearly correlated ones wiht true"
   ]
  },
  {
   "cell_type": "code",
   "execution_count": 293,
   "metadata": {},
   "outputs": [
    {
     "data": {
      "text/plain": [
       "array([[False, False, False, False],\n",
       "       [False, False, False, False],\n",
       "       [False, False, False,  True],\n",
       "       [False, False,  True, False]])"
      ]
     },
     "execution_count": 293,
     "metadata": {},
     "output_type": "execute_result"
    }
   ],
   "source": [
    "((temp_pearsonr<-0.45) & (temp_pearsonr>-0.75))  ##fairly linearly negatively correlated"
   ]
  },
  {
   "cell_type": "markdown",
   "metadata": {},
   "source": [
    "# 4. Imputing the missing values"
   ]
  },
  {
   "cell_type": "markdown",
   "metadata": {},
   "source": [
    "# Filling by mean\n",
    "   Filling missing values in X1, X2, X3, X4 columns by their means"
   ]
  },
  {
   "cell_type": "code",
   "execution_count": 294,
   "metadata": {},
   "outputs": [
    {
     "name": "stdout",
     "output_type": "stream",
     "text": [
      "         X1       X2       X3       X4\n",
      "0    8130.0   4838.0   3623.0  12718.0\n",
      "1    2594.0   3651.0   2323.0   6014.0\n",
      "2    4108.0  12510.0  12127.0   3816.0\n",
      "3    2171.0   8895.0   6732.0   1357.0\n",
      "4    4518.0   4326.0   4214.0   6862.0\n",
      "5    4218.0   9931.0  10149.0   5324.0\n",
      "6    1916.0   8210.0  12422.0   3383.0\n",
      "7    1470.0   8204.0  11644.0   3761.0\n",
      "8    7109.0   4031.0   3973.0   9715.0\n",
      "9    2728.0   8895.0   8562.0   5144.0\n",
      "10   4584.0   5495.0  10220.0    772.0\n",
      "11   3031.0  14284.0  11921.0   4202.0\n",
      "12   4366.0  14286.0   9819.0   5476.0\n",
      "13   4572.0  11782.0   7732.0   3390.0\n",
      "14   2293.0  13848.0   6170.0    419.0\n",
      "15   2585.0  13526.0   7793.0   3328.0\n",
      "16   2772.0  12740.0  12834.0   2340.0\n",
      "17   2284.0  14148.0   9111.0   5370.0\n",
      "18   2969.0   8474.0  14864.0   2529.0\n",
      "19   9818.0   2755.0   1444.0  14121.0\n",
      "20   3960.0   6174.0  13675.0    398.0\n",
      "21   3451.0   9097.0  12659.0   3804.0\n",
      "22   3278.0  10307.0   7481.0   4581.0\n",
      "23   1381.0  11763.0  12967.0    394.0\n",
      "24   4952.0   9321.0  11944.0   3903.0\n",
      "25   2805.0   8895.0   8908.0   6316.0\n",
      "26   7796.0   2509.0   8908.0  10792.0\n",
      "27   1690.0   8895.0   6276.0   3171.0\n",
      "28   2870.0  10706.0  10340.0   2731.0\n",
      "29   3209.0   6090.0  13862.0    436.0\n",
      "..      ...      ...      ...      ...\n",
      "970  2895.0  14756.0  11245.0   4850.0\n",
      "971  5620.0   1710.0   2594.0   5948.0\n",
      "972  3652.0   8895.0   7901.0   5543.0\n",
      "973  3560.0  10660.0  12264.0   2016.0\n",
      "974  1888.0   2047.0   2341.0   2493.0\n",
      "975  3786.0   5626.0  10650.0    952.0\n",
      "976  4511.0   8895.0  12187.0   4015.0\n",
      "977  2001.0  14057.0  10422.0   4158.0\n",
      "978  7890.0   1754.0   2150.0   9262.0\n",
      "979  4989.0   6121.0  13262.0    232.0\n",
      "980  1897.0   6345.0  13365.0   1193.0\n",
      "981  3881.0   6734.0  12585.0   1359.0\n",
      "982  8657.0   3242.0   4719.0   9211.0\n",
      "983  2805.0   6204.0  13575.0    752.0\n",
      "984  2608.0   8895.0   6532.0   2476.0\n",
      "985  7085.0   2156.0   3687.0   6943.0\n",
      "986  3797.0  13982.0   7208.0   4109.0\n",
      "987  1449.0   8922.0  11458.0   4549.0\n",
      "988  9087.0   1472.0   4954.0   6449.0\n",
      "989  4755.0   8895.0   8908.0   1396.0\n",
      "990  3935.0  12186.0  11899.0   3602.0\n",
      "991  3341.0  13339.0  13240.0   2962.0\n",
      "992  4656.0   8534.0  12789.0   2894.0\n",
      "993  4352.0   1792.0   2959.0   4119.0\n",
      "994  3048.0   8895.0   8908.0   3771.0\n",
      "995  2161.0  13773.0   7791.0   3372.0\n",
      "996  3779.0   7132.0  14182.0   1224.0\n",
      "997  5919.0   2703.0   3578.0   6640.0\n",
      "998  3825.0  14157.0  10174.0   5970.0\n",
      "999  3847.0  14364.0  14690.0   3117.0\n",
      "\n",
      "[1000 rows x 4 columns]\n"
     ]
    },
    {
     "name": "stderr",
     "output_type": "stream",
     "text": [
      "C:\\Users\\ashwi\\AppData\\Local\\Programs\\Python\\Python37-32\\lib\\site-packages\\ipykernel_launcher.py:4: SettingWithCopyWarning: \n",
      "A value is trying to be set on a copy of a slice from a DataFrame.\n",
      "Try using .loc[row_indexer,col_indexer] = value instead\n",
      "\n",
      "See the caveats in the documentation: http://pandas.pydata.org/pandas-docs/stable/indexing.html#indexing-view-versus-copy\n",
      "  after removing the cwd from sys.path.\n",
      "C:\\Users\\ashwi\\AppData\\Local\\Programs\\Python\\Python37-32\\lib\\site-packages\\ipykernel_launcher.py:5: SettingWithCopyWarning: \n",
      "A value is trying to be set on a copy of a slice from a DataFrame.\n",
      "Try using .loc[row_indexer,col_indexer] = value instead\n",
      "\n",
      "See the caveats in the documentation: http://pandas.pydata.org/pandas-docs/stable/indexing.html#indexing-view-versus-copy\n",
      "  \"\"\"\n",
      "C:\\Users\\ashwi\\AppData\\Local\\Programs\\Python\\Python37-32\\lib\\site-packages\\ipykernel_launcher.py:6: SettingWithCopyWarning: \n",
      "A value is trying to be set on a copy of a slice from a DataFrame.\n",
      "Try using .loc[row_indexer,col_indexer] = value instead\n",
      "\n",
      "See the caveats in the documentation: http://pandas.pydata.org/pandas-docs/stable/indexing.html#indexing-view-versus-copy\n",
      "  \n",
      "C:\\Users\\ashwi\\AppData\\Local\\Programs\\Python\\Python37-32\\lib\\site-packages\\ipykernel_launcher.py:7: SettingWithCopyWarning: \n",
      "A value is trying to be set on a copy of a slice from a DataFrame.\n",
      "Try using .loc[row_indexer,col_indexer] = value instead\n",
      "\n",
      "See the caveats in the documentation: http://pandas.pydata.org/pandas-docs/stable/indexing.html#indexing-view-versus-copy\n",
      "  import sys\n"
     ]
    }
   ],
   "source": [
    "DF = pd.read_csv(\"IPL_Twitter_MissingData.csv\")#,header=None)\n",
    "DF_X = DF[['X1','X2','X3','X4']]\n",
    "DF_Q = DF[['Q1','Q2']]\n",
    "DF_X['X1'] = DF_X['X1'].fillna(int(DF_X['X1'].mean()))\n",
    "DF_X['X2'] = DF_X['X2'].fillna(int(DF_X['X2'].mean()))\n",
    "DF_X['X3'] = DF_X['X3'].fillna(int(DF_X['X3'].mean()))\n",
    "DF_X['X4'] = DF_X['X4'].fillna(int(DF_X['X4'].mean()))\n",
    "print(DF_X)"
   ]
  },
  {
   "cell_type": "markdown",
   "metadata": {},
   "source": [
    "# Filling by median\n",
    "   Filling missing values in X1, X2, X3, X4 columns by their median"
   ]
  },
  {
   "cell_type": "code",
   "execution_count": 295,
   "metadata": {},
   "outputs": [
    {
     "name": "stdout",
     "output_type": "stream",
     "text": [
      "         X1       X2       X3       X4\n",
      "0    8130.0   4838.0   3623.0  12718.0\n",
      "1    2594.0   3651.0   2323.0   6014.0\n",
      "2    4108.0  12510.0  12127.0   3816.0\n",
      "3    2171.0   9924.0   6732.0   1357.0\n",
      "4    4518.0   4326.0   4214.0   6862.0\n",
      "5    4218.0   9931.0  10149.0   5324.0\n",
      "6    1916.0   8210.0  12422.0   3383.0\n",
      "7    1470.0   8204.0  11644.0   3761.0\n",
      "8    7109.0   4031.0   3973.0   9715.0\n",
      "9    2728.0   9924.0   8562.0   5144.0\n",
      "10   4584.0   5495.0  10220.0    772.0\n",
      "11   3031.0  14284.0  11921.0   4202.0\n",
      "12   4366.0  14286.0   9819.0   5476.0\n",
      "13   4572.0  11782.0   7732.0   3390.0\n",
      "14   2293.0  13848.0   6170.0    419.0\n",
      "15   2585.0  13526.0   7793.0   3328.0\n",
      "16   2772.0  12740.0  12834.0   2340.0\n",
      "17   2284.0  14148.0   9111.0   5370.0\n",
      "18   2969.0   8474.0  14864.0   2529.0\n",
      "19   9818.0   2755.0   1444.0  14121.0\n",
      "20   3960.0   6174.0  13675.0    398.0\n",
      "21   3451.0   9097.0  12659.0   3804.0\n",
      "22   3278.0  10307.0   7481.0   4581.0\n",
      "23   1381.0  11763.0  12967.0    394.0\n",
      "24   4952.0   9321.0  11944.0   3903.0\n",
      "25   2805.0   9924.0  10036.0   6316.0\n",
      "26   7796.0   2509.0  10036.0  10792.0\n",
      "27   1690.0   9924.0   6276.0   3171.0\n",
      "28   2870.0  10706.0  10340.0   2731.0\n",
      "29   3209.0   6090.0  13862.0    436.0\n",
      "..      ...      ...      ...      ...\n",
      "970  2895.0  14756.0  11245.0   4850.0\n",
      "971  5620.0   1710.0   2594.0   5948.0\n",
      "972  3399.0   9924.0   7901.0   5543.0\n",
      "973  3560.0  10660.0  12264.0   2016.0\n",
      "974  1888.0   2047.0   2341.0   2493.0\n",
      "975  3786.0   5626.0  10650.0    952.0\n",
      "976  4511.0   9924.0  12187.0   4015.0\n",
      "977  2001.0  14057.0  10422.0   4158.0\n",
      "978  7890.0   1754.0   2150.0   9262.0\n",
      "979  4989.0   6121.0  13262.0    232.0\n",
      "980  1897.0   6345.0  13365.0   1193.0\n",
      "981  3881.0   6734.0  12585.0   1359.0\n",
      "982  8657.0   3242.0   4719.0   9211.0\n",
      "983  2805.0   6204.0  13575.0    752.0\n",
      "984  2608.0   9924.0   6532.0   2476.0\n",
      "985  7085.0   2156.0   3687.0   6943.0\n",
      "986  3797.0  13982.0   7208.0   3477.0\n",
      "987  1449.0   8922.0  11458.0   4549.0\n",
      "988  9087.0   1472.0   4954.0   6449.0\n",
      "989  4755.0   9924.0  10036.0   1396.0\n",
      "990  3935.0  12186.0  11899.0   3602.0\n",
      "991  3341.0  13339.0  13240.0   2962.0\n",
      "992  4656.0   8534.0  12789.0   2894.0\n",
      "993  4352.0   1792.0   2959.0   4119.0\n",
      "994  3048.0   9924.0  10036.0   3771.0\n",
      "995  2161.0  13773.0   7791.0   3372.0\n",
      "996  3779.0   7132.0  14182.0   1224.0\n",
      "997  5919.0   2703.0   3578.0   6640.0\n",
      "998  3825.0  14157.0  10174.0   5970.0\n",
      "999  3847.0  14364.0  14690.0   3117.0\n",
      "\n",
      "[1000 rows x 4 columns]\n"
     ]
    },
    {
     "name": "stderr",
     "output_type": "stream",
     "text": [
      "C:\\Users\\ashwi\\AppData\\Local\\Programs\\Python\\Python37-32\\lib\\site-packages\\ipykernel_launcher.py:3: SettingWithCopyWarning: \n",
      "A value is trying to be set on a copy of a slice from a DataFrame.\n",
      "Try using .loc[row_indexer,col_indexer] = value instead\n",
      "\n",
      "See the caveats in the documentation: http://pandas.pydata.org/pandas-docs/stable/indexing.html#indexing-view-versus-copy\n",
      "  This is separate from the ipykernel package so we can avoid doing imports until\n",
      "C:\\Users\\ashwi\\AppData\\Local\\Programs\\Python\\Python37-32\\lib\\site-packages\\ipykernel_launcher.py:4: SettingWithCopyWarning: \n",
      "A value is trying to be set on a copy of a slice from a DataFrame.\n",
      "Try using .loc[row_indexer,col_indexer] = value instead\n",
      "\n",
      "See the caveats in the documentation: http://pandas.pydata.org/pandas-docs/stable/indexing.html#indexing-view-versus-copy\n",
      "  after removing the cwd from sys.path.\n",
      "C:\\Users\\ashwi\\AppData\\Local\\Programs\\Python\\Python37-32\\lib\\site-packages\\ipykernel_launcher.py:5: SettingWithCopyWarning: \n",
      "A value is trying to be set on a copy of a slice from a DataFrame.\n",
      "Try using .loc[row_indexer,col_indexer] = value instead\n",
      "\n",
      "See the caveats in the documentation: http://pandas.pydata.org/pandas-docs/stable/indexing.html#indexing-view-versus-copy\n",
      "  \"\"\"\n",
      "C:\\Users\\ashwi\\AppData\\Local\\Programs\\Python\\Python37-32\\lib\\site-packages\\ipykernel_launcher.py:6: SettingWithCopyWarning: \n",
      "A value is trying to be set on a copy of a slice from a DataFrame.\n",
      "Try using .loc[row_indexer,col_indexer] = value instead\n",
      "\n",
      "See the caveats in the documentation: http://pandas.pydata.org/pandas-docs/stable/indexing.html#indexing-view-versus-copy\n",
      "  \n"
     ]
    }
   ],
   "source": [
    "DF = pd.read_csv(\"IPL_Twitter_MissingData.csv\")#,header=None)\n",
    "DF_X = DF[['X1','X2','X3','X4']]\n",
    "DF_X['X1'] = DF_X['X1'].fillna(int(DF_X['X1'].median()))\n",
    "DF_X['X2'] = DF_X['X2'].fillna(int(DF_X['X2'].median()))\n",
    "DF_X['X3'] = DF_X['X3'].fillna(int(DF_X['X3'].median()))\n",
    "DF_X['X4'] = DF_X['X4'].fillna(int(DF_X['X4'].median()))\n",
    "print(DF_X)"
   ]
  },
  {
   "cell_type": "markdown",
   "metadata": {},
   "source": [
    "# Fill Q1 and Q2 by 1 if the number of 1 are more than 0's that is if (sum of entries in Q1/total entries after deleting nan entries in the column) is greater than 0.5"
   ]
  },
  {
   "cell_type": "code",
   "execution_count": 296,
   "metadata": {},
   "outputs": [
    {
     "name": "stdout",
     "output_type": "stream",
     "text": [
      "      Q1   Q2\n",
      "0    0.0  0.0\n",
      "1    0.0  0.0\n",
      "2    1.0  1.0\n",
      "3    1.0  0.0\n",
      "4    0.0  0.0\n",
      "5    0.0  1.0\n",
      "6    0.0  0.0\n",
      "7    0.0  1.0\n",
      "8    0.0  0.0\n",
      "9    1.0  0.0\n",
      "10   0.0  1.0\n",
      "11   1.0  1.0\n",
      "12   1.0  0.0\n",
      "13   1.0  0.0\n",
      "14   1.0  0.0\n",
      "15   1.0  0.0\n",
      "16   1.0  1.0\n",
      "17   1.0  0.0\n",
      "18   0.0  1.0\n",
      "19   0.0  0.0\n",
      "20   0.0  1.0\n",
      "21   0.0  1.0\n",
      "22   1.0  0.0\n",
      "23   1.0  1.0\n",
      "24   0.0  1.0\n",
      "25   1.0  0.0\n",
      "26   0.0  0.0\n",
      "27   1.0  0.0\n",
      "28   1.0  1.0\n",
      "29   0.0  1.0\n",
      "..   ...  ...\n",
      "970  1.0  1.0\n",
      "971  0.0  0.0\n",
      "972  1.0  0.0\n",
      "973  1.0  1.0\n",
      "974  0.0  0.0\n",
      "975  0.0  1.0\n",
      "976  1.0  1.0\n",
      "977  1.0  1.0\n",
      "978  0.0  0.0\n",
      "979  0.0  1.0\n",
      "980  0.0  1.0\n",
      "981  0.0  1.0\n",
      "982  0.0  0.0\n",
      "983  0.0  1.0\n",
      "984  1.0  0.0\n",
      "985  0.0  0.0\n",
      "986  1.0  0.0\n",
      "987  0.0  1.0\n",
      "988  0.0  0.0\n",
      "989  0.0  0.0\n",
      "990  1.0  1.0\n",
      "991  1.0  1.0\n",
      "992  0.0  1.0\n",
      "993  0.0  0.0\n",
      "994  1.0  1.0\n",
      "995  1.0  0.0\n",
      "996  0.0  1.0\n",
      "997  0.0  0.0\n",
      "998  1.0  1.0\n",
      "999  1.0  1.0\n",
      "\n",
      "[1000 rows x 2 columns]\n"
     ]
    }
   ],
   "source": [
    "#fill Q1 and Q2 by 1 if the number of 1 are more than 0's that is if (sum of entries in Q1/total entries after deleting nan entries in the column)\n",
    "DF2 = pd.read_csv(\"IPL_Twitter_MissingData.csv\")#,header=None)\n",
    "temp_col = DF2['Q1'].dropna()\n",
    "checkQ1 = sum(temp_col)/temp_col.size\n",
    "checkQ2 = sum(DF2['Q2'].dropna())/(DF2['Q1'].dropna().size)\n",
    "# print(checkQ1,checkQ2)\n",
    "if checkQ1>=0.5:\n",
    "    DF2['Q1'].fillna(1)\n",
    "else:\n",
    "    DF2['Q1'] = DF2['Q1'].fillna(0)\n",
    "#     pass\n",
    "if checkQ2>=0.5:\n",
    "    DF2['Q2'].fillna(1)\n",
    "else:\n",
    "    DF2['Q2'] = DF2['Q2'].fillna(0)\n",
    "#     pass\n",
    "print(DF2[['Q1','Q2']])"
   ]
  },
  {
   "cell_type": "markdown",
   "metadata": {},
   "source": [
    "# Using ffill and bfill to impute the missing values"
   ]
  },
  {
   "cell_type": "code",
   "execution_count": 297,
   "metadata": {},
   "outputs": [
    {
     "name": "stdout",
     "output_type": "stream",
     "text": [
      "      Q1   Q2      X1       X2       X3       X4\n",
      "0    0.0  0.0  8130.0   4838.0   3623.0  12718.0\n",
      "1    0.0  0.0  2594.0   3651.0   2323.0   6014.0\n",
      "2    1.0  1.0  4108.0  12510.0  12127.0   3816.0\n",
      "3    1.0  0.0  2171.0      NaN   6732.0   1357.0\n",
      "4    0.0  0.0  4518.0   4326.0   4214.0   6862.0\n",
      "5    0.0  1.0  4218.0   9931.0  10149.0   5324.0\n",
      "6    0.0  1.0  1916.0   8210.0  12422.0   3383.0\n",
      "7    0.0  1.0  1470.0   8204.0  11644.0   3761.0\n",
      "8    0.0  0.0  7109.0   4031.0   3973.0   9715.0\n",
      "9    1.0  0.0  2728.0      NaN   8562.0   5144.0\n",
      "10   0.0  1.0  4584.0   5495.0  10220.0    772.0\n",
      "11   1.0  1.0  3031.0  14284.0  11921.0   4202.0\n",
      "12   1.0  0.0  4366.0  14286.0   9819.0   5476.0\n",
      "13   1.0  0.0  4572.0  11782.0   7732.0   3390.0\n",
      "14   1.0  0.0  2293.0  13848.0   6170.0    419.0\n",
      "15   1.0  0.0  2585.0  13526.0   7793.0   3328.0\n",
      "16   1.0  1.0  2772.0  12740.0  12834.0   2340.0\n",
      "17   1.0  0.0  2284.0  14148.0   9111.0   5370.0\n",
      "18   0.0  1.0  2969.0   8474.0  14864.0   2529.0\n",
      "19   0.0  0.0  9818.0   2755.0   1444.0  14121.0\n",
      "20   0.0  1.0  3960.0   6174.0  13675.0    398.0\n",
      "21   1.0  1.0  3451.0   9097.0  12659.0   3804.0\n",
      "22   1.0  0.0  3278.0  10307.0   7481.0   4581.0\n",
      "23   1.0  1.0  1381.0  11763.0  12967.0    394.0\n",
      "24   0.0  1.0  4952.0   9321.0  11944.0   3903.0\n",
      "25   1.0  0.0  2805.0      NaN      NaN   6316.0\n",
      "26   0.0  0.0  7796.0   2509.0      NaN  10792.0\n",
      "27   1.0  0.0  1690.0      NaN   6276.0   3171.0\n",
      "28   1.0  1.0  2870.0  10706.0  10340.0   2731.0\n",
      "29   0.0  1.0  3209.0   6090.0  13862.0    436.0\n",
      "..   ...  ...     ...      ...      ...      ...\n",
      "970  1.0  1.0  2895.0  14756.0  11245.0   4850.0\n",
      "971  0.0  0.0  5620.0   1710.0   2594.0   5948.0\n",
      "972  1.0  0.0     NaN      NaN   7901.0   5543.0\n",
      "973  1.0  1.0  3560.0  10660.0  12264.0   2016.0\n",
      "974  0.0  0.0  1888.0   2047.0   2341.0   2493.0\n",
      "975  0.0  1.0  3786.0   5626.0  10650.0    952.0\n",
      "976  1.0  1.0  4511.0      NaN  12187.0   4015.0\n",
      "977  1.0  1.0  2001.0  14057.0  10422.0   4158.0\n",
      "978  0.0  1.0  7890.0   1754.0   2150.0   9262.0\n",
      "979  0.0  1.0  4989.0   6121.0  13262.0    232.0\n",
      "980  0.0  1.0  1897.0   6345.0  13365.0   1193.0\n",
      "981  0.0  1.0  3881.0   6734.0  12585.0   1359.0\n",
      "982  0.0  0.0  8657.0   3242.0   4719.0   9211.0\n",
      "983  0.0  1.0  2805.0   6204.0  13575.0    752.0\n",
      "984  1.0  0.0  2608.0      NaN   6532.0   2476.0\n",
      "985  0.0  0.0  7085.0   2156.0   3687.0   6943.0\n",
      "986  1.0  0.0  3797.0  13982.0   7208.0      NaN\n",
      "987  0.0  1.0  1449.0   8922.0  11458.0   4549.0\n",
      "988  0.0  0.0  9087.0   1472.0   4954.0   6449.0\n",
      "989  0.0  0.0  4755.0      NaN      NaN   1396.0\n",
      "990  1.0  1.0  3935.0  12186.0  11899.0   3602.0\n",
      "991  1.0  1.0  3341.0  13339.0  13240.0   2962.0\n",
      "992  0.0  1.0  4656.0   8534.0  12789.0   2894.0\n",
      "993  0.0  0.0  4352.0   1792.0   2959.0   4119.0\n",
      "994  1.0  1.0  3048.0      NaN      NaN   3771.0\n",
      "995  1.0  0.0  2161.0  13773.0   7791.0   3372.0\n",
      "996  0.0  1.0  3779.0   7132.0  14182.0   1224.0\n",
      "997  0.0  0.0  5919.0   2703.0   3578.0   6640.0\n",
      "998  1.0  1.0  3825.0  14157.0  10174.0   5970.0\n",
      "999  1.0  1.0  3847.0  14364.0  14690.0   3117.0\n",
      "\n",
      "[1000 rows x 6 columns]\n"
     ]
    }
   ],
   "source": [
    "DF3 = pd.read_csv(\"IPL_Twitter_MissingData.csv\")#,header=None)\n",
    "DF3[['Q1','Q2']] = DF3[['Q1','Q2']].bfill()\n",
    "print(DF3)"
   ]
  },
  {
   "cell_type": "code",
   "execution_count": 298,
   "metadata": {},
   "outputs": [
    {
     "name": "stdout",
     "output_type": "stream",
     "text": [
      "      Q1   Q2      X1       X2       X3       X4\n",
      "0    0.0  0.0  8130.0   4838.0   3623.0  12718.0\n",
      "1    0.0  0.0  2594.0   3651.0   2323.0   6014.0\n",
      "2    1.0  1.0  4108.0  12510.0  12127.0   3816.0\n",
      "3    1.0  0.0  2171.0      NaN   6732.0   1357.0\n",
      "4    0.0  0.0  4518.0   4326.0   4214.0   6862.0\n",
      "5    0.0  1.0  4218.0   9931.0  10149.0   5324.0\n",
      "6    0.0  1.0  1916.0   8210.0  12422.0   3383.0\n",
      "7    0.0  1.0  1470.0   8204.0  11644.0   3761.0\n",
      "8    0.0  0.0  7109.0   4031.0   3973.0   9715.0\n",
      "9    1.0  0.0  2728.0      NaN   8562.0   5144.0\n",
      "10   0.0  1.0  4584.0   5495.0  10220.0    772.0\n",
      "11   1.0  1.0  3031.0  14284.0  11921.0   4202.0\n",
      "12   1.0  0.0  4366.0  14286.0   9819.0   5476.0\n",
      "13   1.0  0.0  4572.0  11782.0   7732.0   3390.0\n",
      "14   1.0  0.0  2293.0  13848.0   6170.0    419.0\n",
      "15   1.0  0.0  2585.0  13526.0   7793.0   3328.0\n",
      "16   1.0  1.0  2772.0  12740.0  12834.0   2340.0\n",
      "17   1.0  0.0  2284.0  14148.0   9111.0   5370.0\n",
      "18   0.0  1.0  2969.0   8474.0  14864.0   2529.0\n",
      "19   0.0  0.0  9818.0   2755.0   1444.0  14121.0\n",
      "20   0.0  1.0  3960.0   6174.0  13675.0    398.0\n",
      "21   1.0  1.0  3451.0   9097.0  12659.0   3804.0\n",
      "22   1.0  0.0  3278.0  10307.0   7481.0   4581.0\n",
      "23   1.0  1.0  1381.0  11763.0  12967.0    394.0\n",
      "24   0.0  1.0  4952.0   9321.0  11944.0   3903.0\n",
      "25   1.0  0.0  2805.0      NaN      NaN   6316.0\n",
      "26   0.0  0.0  7796.0   2509.0      NaN  10792.0\n",
      "27   1.0  0.0  1690.0      NaN   6276.0   3171.0\n",
      "28   1.0  1.0  2870.0  10706.0  10340.0   2731.0\n",
      "29   0.0  1.0  3209.0   6090.0  13862.0    436.0\n",
      "..   ...  ...     ...      ...      ...      ...\n",
      "970  1.0  1.0  2895.0  14756.0  11245.0   4850.0\n",
      "971  0.0  0.0  5620.0   1710.0   2594.0   5948.0\n",
      "972  1.0  0.0     NaN      NaN   7901.0   5543.0\n",
      "973  1.0  1.0  3560.0  10660.0  12264.0   2016.0\n",
      "974  0.0  0.0  1888.0   2047.0   2341.0   2493.0\n",
      "975  0.0  1.0  3786.0   5626.0  10650.0    952.0\n",
      "976  1.0  1.0  4511.0      NaN  12187.0   4015.0\n",
      "977  1.0  1.0  2001.0  14057.0  10422.0   4158.0\n",
      "978  0.0  1.0  7890.0   1754.0   2150.0   9262.0\n",
      "979  0.0  1.0  4989.0   6121.0  13262.0    232.0\n",
      "980  0.0  1.0  1897.0   6345.0  13365.0   1193.0\n",
      "981  0.0  1.0  3881.0   6734.0  12585.0   1359.0\n",
      "982  0.0  0.0  8657.0   3242.0   4719.0   9211.0\n",
      "983  0.0  1.0  2805.0   6204.0  13575.0    752.0\n",
      "984  1.0  0.0  2608.0      NaN   6532.0   2476.0\n",
      "985  0.0  0.0  7085.0   2156.0   3687.0   6943.0\n",
      "986  1.0  0.0  3797.0  13982.0   7208.0      NaN\n",
      "987  0.0  1.0  1449.0   8922.0  11458.0   4549.0\n",
      "988  0.0  0.0  9087.0   1472.0   4954.0   6449.0\n",
      "989  0.0  0.0  4755.0      NaN      NaN   1396.0\n",
      "990  1.0  1.0  3935.0  12186.0  11899.0   3602.0\n",
      "991  1.0  1.0  3341.0  13339.0  13240.0   2962.0\n",
      "992  0.0  1.0  4656.0   8534.0  12789.0   2894.0\n",
      "993  0.0  0.0  4352.0   1792.0   2959.0   4119.0\n",
      "994  1.0  1.0  3048.0      NaN      NaN   3771.0\n",
      "995  1.0  0.0  2161.0  13773.0   7791.0   3372.0\n",
      "996  0.0  1.0  3779.0   7132.0  14182.0   1224.0\n",
      "997  0.0  0.0  5919.0   2703.0   3578.0   6640.0\n",
      "998  1.0  1.0  3825.0  14157.0  10174.0   5970.0\n",
      "999  1.0  1.0  3847.0  14364.0  14690.0   3117.0\n",
      "\n",
      "[1000 rows x 6 columns]\n"
     ]
    }
   ],
   "source": [
    "DF4 = pd.read_csv(\"IPL_Twitter_MissingData.csv\")#,header=None)\n",
    "DF4[['Q1','Q2']] = DF4[['Q1','Q2']].bfill()\n",
    "print(DF4)"
   ]
  },
  {
   "cell_type": "code",
   "execution_count": 299,
   "metadata": {},
   "outputs": [
    {
     "name": "stdout",
     "output_type": "stream",
     "text": [
      "      Q1   Q2      X1       X2       X3       X4\n",
      "0    0.0  0.0  8130.0   4838.0   3623.0  12718.0\n",
      "1    0.0  0.0  2594.0   3651.0   2323.0   6014.0\n",
      "2    1.0  1.0  4108.0  12510.0  12127.0   3816.0\n",
      "3    1.0  0.0  2171.0   4326.0   6732.0   1357.0\n",
      "4    0.0  0.0  4518.0   4326.0   4214.0   6862.0\n",
      "5    0.0  1.0  4218.0   9931.0  10149.0   5324.0\n",
      "6    0.0  1.0  1916.0   8210.0  12422.0   3383.0\n",
      "7    0.0  1.0  1470.0   8204.0  11644.0   3761.0\n",
      "8    0.0  0.0  7109.0   4031.0   3973.0   9715.0\n",
      "9    1.0  0.0  2728.0   5495.0   8562.0   5144.0\n",
      "10   0.0  1.0  4584.0   5495.0  10220.0    772.0\n",
      "11   1.0  1.0  3031.0  14284.0  11921.0   4202.0\n",
      "12   1.0  0.0  4366.0  14286.0   9819.0   5476.0\n",
      "13   1.0  0.0  4572.0  11782.0   7732.0   3390.0\n",
      "14   1.0  0.0  2293.0  13848.0   6170.0    419.0\n",
      "15   1.0  0.0  2585.0  13526.0   7793.0   3328.0\n",
      "16   1.0  1.0  2772.0  12740.0  12834.0   2340.0\n",
      "17   1.0  0.0  2284.0  14148.0   9111.0   5370.0\n",
      "18   0.0  1.0  2969.0   8474.0  14864.0   2529.0\n",
      "19   0.0  0.0  9818.0   2755.0   1444.0  14121.0\n",
      "20   0.0  1.0  3960.0   6174.0  13675.0    398.0\n",
      "21   1.0  1.0  3451.0   9097.0  12659.0   3804.0\n",
      "22   1.0  0.0  3278.0  10307.0   7481.0   4581.0\n",
      "23   1.0  1.0  1381.0  11763.0  12967.0    394.0\n",
      "24   0.0  1.0  4952.0   9321.0  11944.0   3903.0\n",
      "25   1.0  0.0  2805.0   2509.0   6276.0   6316.0\n",
      "26   0.0  0.0  7796.0   2509.0   6276.0  10792.0\n",
      "27   1.0  0.0  1690.0  10706.0   6276.0   3171.0\n",
      "28   1.0  1.0  2870.0  10706.0  10340.0   2731.0\n",
      "29   0.0  1.0  3209.0   6090.0  13862.0    436.0\n",
      "..   ...  ...     ...      ...      ...      ...\n",
      "970  1.0  1.0  2895.0  14756.0  11245.0   4850.0\n",
      "971  0.0  0.0  5620.0   1710.0   2594.0   5948.0\n",
      "972  1.0  0.0  3560.0  10660.0   7901.0   5543.0\n",
      "973  1.0  1.0  3560.0  10660.0  12264.0   2016.0\n",
      "974  0.0  0.0  1888.0   2047.0   2341.0   2493.0\n",
      "975  0.0  1.0  3786.0   5626.0  10650.0    952.0\n",
      "976  1.0  1.0  4511.0  14057.0  12187.0   4015.0\n",
      "977  1.0  1.0  2001.0  14057.0  10422.0   4158.0\n",
      "978  0.0  1.0  7890.0   1754.0   2150.0   9262.0\n",
      "979  0.0  1.0  4989.0   6121.0  13262.0    232.0\n",
      "980  0.0  1.0  1897.0   6345.0  13365.0   1193.0\n",
      "981  0.0  1.0  3881.0   6734.0  12585.0   1359.0\n",
      "982  0.0  0.0  8657.0   3242.0   4719.0   9211.0\n",
      "983  0.0  1.0  2805.0   6204.0  13575.0    752.0\n",
      "984  1.0  0.0  2608.0   2156.0   6532.0   2476.0\n",
      "985  0.0  0.0  7085.0   2156.0   3687.0   6943.0\n",
      "986  1.0  0.0  3797.0  13982.0   7208.0   4549.0\n",
      "987  0.0  1.0  1449.0   8922.0  11458.0   4549.0\n",
      "988  0.0  0.0  9087.0   1472.0   4954.0   6449.0\n",
      "989  0.0  0.0  4755.0  12186.0  11899.0   1396.0\n",
      "990  1.0  1.0  3935.0  12186.0  11899.0   3602.0\n",
      "991  1.0  1.0  3341.0  13339.0  13240.0   2962.0\n",
      "992  0.0  1.0  4656.0   8534.0  12789.0   2894.0\n",
      "993  0.0  0.0  4352.0   1792.0   2959.0   4119.0\n",
      "994  1.0  1.0  3048.0  13773.0   7791.0   3771.0\n",
      "995  1.0  0.0  2161.0  13773.0   7791.0   3372.0\n",
      "996  0.0  1.0  3779.0   7132.0  14182.0   1224.0\n",
      "997  0.0  0.0  5919.0   2703.0   3578.0   6640.0\n",
      "998  1.0  1.0  3825.0  14157.0  10174.0   5970.0\n",
      "999  1.0  1.0  3847.0  14364.0  14690.0   3117.0\n",
      "\n",
      "[1000 rows x 6 columns]\n",
      "      Q1   Q2      X1       X2       X3       X4\n",
      "0    0.0  0.0  8130.0   4838.0   3623.0  12718.0\n",
      "1    0.0  0.0  2594.0   3651.0   2323.0   6014.0\n",
      "2    1.0  1.0  4108.0  12510.0  12127.0   3816.0\n",
      "3    1.0  0.0  2171.0  12510.0   6732.0   1357.0\n",
      "4    0.0  0.0  4518.0   4326.0   4214.0   6862.0\n",
      "5    0.0  1.0  4218.0   9931.0  10149.0   5324.0\n",
      "6    0.0  1.0  1916.0   8210.0  12422.0   3383.0\n",
      "7    0.0  1.0  1470.0   8204.0  11644.0   3761.0\n",
      "8    0.0  0.0  7109.0   4031.0   3973.0   9715.0\n",
      "9    1.0  0.0  2728.0   4031.0   8562.0   5144.0\n",
      "10   0.0  1.0  4584.0   5495.0  10220.0    772.0\n",
      "11   1.0  1.0  3031.0  14284.0  11921.0   4202.0\n",
      "12   1.0  0.0  4366.0  14286.0   9819.0   5476.0\n",
      "13   1.0  0.0  4572.0  11782.0   7732.0   3390.0\n",
      "14   1.0  0.0  2293.0  13848.0   6170.0    419.0\n",
      "15   1.0  0.0  2585.0  13526.0   7793.0   3328.0\n",
      "16   1.0  1.0  2772.0  12740.0  12834.0   2340.0\n",
      "17   1.0  0.0  2284.0  14148.0   9111.0   5370.0\n",
      "18   0.0  1.0  2969.0   8474.0  14864.0   2529.0\n",
      "19   0.0  0.0  9818.0   2755.0   1444.0  14121.0\n",
      "20   0.0  1.0  3960.0   6174.0  13675.0    398.0\n",
      "21   1.0  1.0  3451.0   9097.0  12659.0   3804.0\n",
      "22   1.0  0.0  3278.0  10307.0   7481.0   4581.0\n",
      "23   1.0  1.0  1381.0  11763.0  12967.0    394.0\n",
      "24   0.0  1.0  4952.0   9321.0  11944.0   3903.0\n",
      "25   1.0  0.0  2805.0   9321.0  11944.0   6316.0\n",
      "26   0.0  0.0  7796.0   2509.0  11944.0  10792.0\n",
      "27   1.0  0.0  1690.0   2509.0   6276.0   3171.0\n",
      "28   1.0  1.0  2870.0  10706.0  10340.0   2731.0\n",
      "29   0.0  1.0  3209.0   6090.0  13862.0    436.0\n",
      "..   ...  ...     ...      ...      ...      ...\n",
      "970  1.0  1.0  2895.0  14756.0  11245.0   4850.0\n",
      "971  0.0  0.0  5620.0   1710.0   2594.0   5948.0\n",
      "972  1.0  0.0  5620.0   1710.0   7901.0   5543.0\n",
      "973  1.0  1.0  3560.0  10660.0  12264.0   2016.0\n",
      "974  0.0  0.0  1888.0   2047.0   2341.0   2493.0\n",
      "975  0.0  1.0  3786.0   5626.0  10650.0    952.0\n",
      "976  1.0  1.0  4511.0   5626.0  12187.0   4015.0\n",
      "977  1.0  1.0  2001.0  14057.0  10422.0   4158.0\n",
      "978  0.0  1.0  7890.0   1754.0   2150.0   9262.0\n",
      "979  0.0  1.0  4989.0   6121.0  13262.0    232.0\n",
      "980  0.0  1.0  1897.0   6345.0  13365.0   1193.0\n",
      "981  0.0  1.0  3881.0   6734.0  12585.0   1359.0\n",
      "982  0.0  0.0  8657.0   3242.0   4719.0   9211.0\n",
      "983  0.0  1.0  2805.0   6204.0  13575.0    752.0\n",
      "984  1.0  0.0  2608.0   6204.0   6532.0   2476.0\n",
      "985  0.0  0.0  7085.0   2156.0   3687.0   6943.0\n",
      "986  1.0  0.0  3797.0  13982.0   7208.0   6943.0\n",
      "987  0.0  1.0  1449.0   8922.0  11458.0   4549.0\n",
      "988  0.0  0.0  9087.0   1472.0   4954.0   6449.0\n",
      "989  0.0  0.0  4755.0   1472.0   4954.0   1396.0\n",
      "990  1.0  1.0  3935.0  12186.0  11899.0   3602.0\n",
      "991  1.0  1.0  3341.0  13339.0  13240.0   2962.0\n",
      "992  0.0  1.0  4656.0   8534.0  12789.0   2894.0\n",
      "993  0.0  0.0  4352.0   1792.0   2959.0   4119.0\n",
      "994  1.0  1.0  3048.0   1792.0   2959.0   3771.0\n",
      "995  1.0  0.0  2161.0  13773.0   7791.0   3372.0\n",
      "996  0.0  1.0  3779.0   7132.0  14182.0   1224.0\n",
      "997  0.0  0.0  5919.0   2703.0   3578.0   6640.0\n",
      "998  1.0  1.0  3825.0  14157.0  10174.0   5970.0\n",
      "999  1.0  1.0  3847.0  14364.0  14690.0   3117.0\n",
      "\n",
      "[1000 rows x 6 columns]\n"
     ]
    }
   ],
   "source": [
    "DF3[['X1','X2','X3','X4']] = DF3[['X1','X2','X3','X4']].bfill()\n",
    "DF4[['X1','X2','X3','X4']] = DF4[['X1','X2','X3','X4']].ffill()\n",
    "print(DF3)\n",
    "print(DF4)"
   ]
  }
 ],
 "metadata": {
  "kernelspec": {
   "display_name": "Python 3",
   "language": "python",
   "name": "python3"
  },
  "language_info": {
   "codemirror_mode": {
    "name": "ipython",
    "version": 3
   },
   "file_extension": ".py",
   "mimetype": "text/x-python",
   "name": "python",
   "nbconvert_exporter": "python",
   "pygments_lexer": "ipython3",
   "version": "3.7.3"
  }
 },
 "nbformat": 4,
 "nbformat_minor": 2
}
