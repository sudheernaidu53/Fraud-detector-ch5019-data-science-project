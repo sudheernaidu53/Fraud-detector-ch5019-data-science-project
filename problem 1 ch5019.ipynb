{
 "cells": [
  {
   "cell_type": "code",
   "execution_count": 3,
   "metadata": {},
   "outputs": [],
   "source": [
    "import numpy as np\n",
    "import scipy.stats as stats\n",
    "import pandas as pd\n",
    "import csv \n",
    "from matplotlib import pyplot"
   ]
  },
  {
   "cell_type": "code",
   "execution_count": 4,
   "metadata": {},
   "outputs": [],
   "source": [
    "DF = pd.read_csv(\"IPL_Twitter_MissingData.csv\")#,header=None)"
   ]
  },
  {
   "cell_type": "code",
   "execution_count": 5,
   "metadata": {},
   "outputs": [],
   "source": [
    "# print(DF.head())\n",
    "# print(type(DF))"
   ]
  },
  {
   "cell_type": "code",
   "execution_count": 6,
   "metadata": {
    "scrolled": true
   },
   "outputs": [],
   "source": [
    "DF.isna().sum(axis = 1)\n",
    "row_wise_nanvalues = pd.DataFrame(DF.isna().sum(axis = 1))\n",
    "# print(row_wise_nanvalues[0] > 0)\n",
    "row_missing_value = pd.DataFrame(row_wise_nanvalues[0] > 0) #like boolean in np boolean masking)\n",
    "# print(row_missing_value)\n",
    "DF1 =DF.copy()\n",
    "DF2 = DF.copy()\n",
    "# print(type(row_missing_value))\n",
    "# DF1['row has nan?'] = row_missing_value[0]\n",
    "# print(DF1.head())\n",
    "# print(DF.head())"
   ]
  },
  {
   "cell_type": "code",
   "execution_count": 7,
   "metadata": {},
   "outputs": [],
   "source": [
    "# series = pd.Series([True,False,True,False,False,False,True])\n",
    "# series\n",
    "# print(series.values)\n",
    "# type(series.values)"
   ]
  },
  {
   "cell_type": "code",
   "execution_count": 8,
   "metadata": {},
   "outputs": [
    {
     "name": "stdout",
     "output_type": "stream",
     "text": [
      "Number of samples with missing values are 238.\n",
      "Number of samples with out missing values are 762.\n",
      "As total number of samples are 1000.\n"
     ]
    }
   ],
   "source": [
    "nan_samples = np.sum(row_missing_value[0])\n",
    "nan_samples\n",
    "correct_samples = (DF2.shape)[0]-nan_samples\n",
    "# print(type(nan_samples))\n",
    "print('Number of samples with missing values are ',nan_samples, '.', sep ='' )\n",
    "print('Number of samples with out missing values are ',correct_samples,'.', sep ='' )\n",
    "print('As total number of samples are ',(DF2.shape)[0],'.', sep='')"
   ]
  },
  {
   "cell_type": "code",
   "execution_count": 9,
   "metadata": {},
   "outputs": [
    {
     "data": {
      "text/html": [
       "<div>\n",
       "<style scoped>\n",
       "    .dataframe tbody tr th:only-of-type {\n",
       "        vertical-align: middle;\n",
       "    }\n",
       "\n",
       "    .dataframe tbody tr th {\n",
       "        vertical-align: top;\n",
       "    }\n",
       "\n",
       "    .dataframe thead th {\n",
       "        text-align: right;\n",
       "    }\n",
       "</style>\n",
       "<table border=\"1\" class=\"dataframe\">\n",
       "  <thead>\n",
       "    <tr style=\"text-align: right;\">\n",
       "      <th></th>\n",
       "      <th>number of values missing from each column</th>\n",
       "    </tr>\n",
       "  </thead>\n",
       "  <tbody>\n",
       "    <tr>\n",
       "      <th>Q1</th>\n",
       "      <td>44</td>\n",
       "    </tr>\n",
       "    <tr>\n",
       "      <th>Q2</th>\n",
       "      <td>45</td>\n",
       "    </tr>\n",
       "    <tr>\n",
       "      <th>X1</th>\n",
       "      <td>36</td>\n",
       "    </tr>\n",
       "    <tr>\n",
       "      <th>X2</th>\n",
       "      <td>55</td>\n",
       "    </tr>\n",
       "    <tr>\n",
       "      <th>X3</th>\n",
       "      <td>67</td>\n",
       "    </tr>\n",
       "    <tr>\n",
       "      <th>X4</th>\n",
       "      <td>41</td>\n",
       "    </tr>\n",
       "  </tbody>\n",
       "</table>\n",
       "</div>"
      ],
      "text/plain": [
       "    number of values missing from each column\n",
       "Q1                                         44\n",
       "Q2                                         45\n",
       "X1                                         36\n",
       "X2                                         55\n",
       "X3                                         67\n",
       "X4                                         41"
      ]
     },
     "execution_count": 9,
     "metadata": {},
     "output_type": "execute_result"
    }
   ],
   "source": [
    "column_wise_nanvalues = pd.DataFrame(DF.isnull().sum(axis = 0))\n",
    "type(column_wise_nanvalues) #data frame\n",
    "column_wise_nanvalues.columns = ['number of values missing from each column']\n",
    "column_wise_nanvalues"
   ]
  },
  {
   "cell_type": "markdown",
   "metadata": {},
   "source": [
    "## 1) How many data samples have missing values? "
   ]
  },
  {
   "cell_type": "markdown",
   "metadata": {},
   "source": [
    "if the column vector (Q1, Q2, X1, X2, X3, X4) represents a sample, then having at least one missing value in the sample includes it in missing values sample."
   ]
  },
  {
   "cell_type": "markdown",
   "metadata": {},
   "source": [
    "so, it is 238 samples with missing values and 1000-238 = 762 samples have complete data"
   ]
  },
  {
   "cell_type": "code",
   "execution_count": 10,
   "metadata": {},
   "outputs": [],
   "source": [
    "# Df_without_nan = DF.where(DF['row has nan?'] == False)\n",
    "# print(Df_without_nan.head())\n",
    "# DF.shape"
   ]
  },
  {
   "cell_type": "code",
   "execution_count": 11,
   "metadata": {},
   "outputs": [],
   "source": [
    "DF = DF.dropna()"
   ]
  },
  {
   "cell_type": "code",
   "execution_count": 12,
   "metadata": {},
   "outputs": [
    {
     "name": "stdout",
     "output_type": "stream",
     "text": [
      "(762, 6)\n"
     ]
    }
   ],
   "source": [
    "print(DF.shape)\n",
    "# DF.dropna().shape"
   ]
  },
  {
   "cell_type": "markdown",
   "metadata": {},
   "source": [
    "## 4. Impute the missing values using your own ideas and also briefly explain those ideas in \n",
    "the report (scores will be proportional to the number of meaningful ways the data is \n",
    "filled). One has to use one unique idea to fill the complete data so submit multiple sets \n",
    "of filled data, if you have multiple ideas for filling the dat## 4."
   ]
  },
  {
   "cell_type": "markdown",
   "metadata": {},
   "source": [
    "### filling it with a constant for Q1 and Q2 as they have to be binary"
   ]
  },
  {
   "cell_type": "code",
   "execution_count": 13,
   "metadata": {},
   "outputs": [],
   "source": [
    "hhuh = pd.DataFrame([0,0,0,1,1,1,0,1,1,0,0,1,1,np.nan,np.nan,0,1,0,np.nan,1,1,0,1,0,1,np.nan,1,1])\n",
    "# hhuh.interpolate(method ='linear', limit_direction ='backward', limit = 1) \n",
    "# df.interpolate?"
   ]
  },
  {
   "cell_type": "code",
   "execution_count": 14,
   "metadata": {},
   "outputs": [],
   "source": [
    "# huh = pd.DataFrame([16,np.nan,36,0,1,4,9,49,64,np.nan,np.nan,121,144])\n",
    "# huh.interpolate(method ='quadratic', limit_direction ='backward', limit = 1)  this won't work because the function is approximated as quadratic\n"
   ]
  },
  {
   "cell_type": "code",
   "execution_count": 15,
   "metadata": {},
   "outputs": [],
   "source": [
    "#fill Q1 and Q2 by 1 if the number of 1 are more than 0's that is if (sum of entries in Q1/total entries after deleting nan entries in the column)\n",
    "temp_col = DF2['Q1'].dropna()\n",
    "checkQ1 = sum(temp_col)/temp_col.size\n",
    "checkQ2 = sum(DF2['Q2'].dropna())/(DF2['Q1'].dropna().size)\n",
    "# print(checkQ1,checkQ2)\n",
    "if checkQ1>=0.5:\n",
    "    DF2['Q1'].fillna(1)\n",
    "else:\n",
    "    DF2['Q1'] = DF2['Q1'].fillna(0)\n",
    "#     pass\n",
    "if checkQ2>=0.5:\n",
    "    DF2['Q2'].fillna(1)\n",
    "else:\n",
    "    DF2['Q2'] = DF2['Q2'].fillna(0)\n",
    "#     pass\n",
    "# DF2"
   ]
  },
  {
   "cell_type": "code",
   "execution_count": 16,
   "metadata": {
    "scrolled": true
   },
   "outputs": [],
   "source": [
    "DF3 = pd.read_csv(\"IPL_Twitter_MissingData.csv\")\n",
    "DF4 = DF3.copy()\n",
    "# DF3"
   ]
  },
  {
   "cell_type": "markdown",
   "metadata": {},
   "source": [
    "### ffill and bfill"
   ]
  },
  {
   "cell_type": "code",
   "execution_count": 17,
   "metadata": {},
   "outputs": [],
   "source": [
    "DF4[['Q1','Q2']] = DF4[['Q1','Q2']].bfill()\n",
    "# DF4 #Q1 column 21 is filled with 0 (20 is 0, 21 is 1) and Q2 column 6 is filled with 1 (5,7 both are 1s)"
   ]
  },
  {
   "cell_type": "code",
   "execution_count": 18,
   "metadata": {},
   "outputs": [],
   "source": [
    "DF3[['Q1','Q2']] = DF3[['Q1','Q2']].ffill() # here Q1 21 is filled by 1 as this is backward filling\n",
    "DF7 = DF3.copy()"
   ]
  },
  {
   "cell_type": "code",
   "execution_count": 19,
   "metadata": {},
   "outputs": [],
   "source": [
    "# DF4"
   ]
  },
  {
   "cell_type": "markdown",
   "metadata": {},
   "source": [
    "### Filling other columns (integers)"
   ]
  },
  {
   "cell_type": "markdown",
   "metadata": {},
   "source": [
    "fill by constant. By median or mean"
   ]
  },
  {
   "cell_type": "code",
   "execution_count": 20,
   "metadata": {},
   "outputs": [],
   "source": [
    "# print(DF4['X1'].mean())\n",
    "DF5 = DF2.copy()\n",
    "DF6 = DF2.copy()\n",
    "DF6 = DF6.interpolate(method='linear')\n",
    "DF2['X1'] = DF2['X1'].fillna(int(DF2['X1'].mean()))\n",
    "DF2['X2'] = DF2['X2'].fillna(int(DF2['X2'].mean()))\n",
    "DF2['X3'] = DF2['X3'].fillna(int(DF2['X3'].mean()))\n",
    "DF2['X4'] = DF2['X4'].fillna(int(DF2['X4'].mean()))\n",
    "DF5['X1'] = DF5['X1'].fillna(int(DF5['X1'].median()))\n",
    "DF5['X2'] = DF5['X2'].fillna(int(DF5['X2'].median()))\n",
    "DF5['X3'] = DF5['X3'].fillna(int(DF5['X3'].median()))\n",
    "DF5['X4'] = DF5['X4'].fillna(int(DF5['X4'].median()))\n",
    "DF7['X1'] = DF7['X1'].fillna(int(DF7['X1'].mean()))\n",
    "DF7['X2'] = DF7['X2'].fillna(int(DF7['X2'].mean()))\n",
    "DF7['X3'] = DF7['X3'].fillna(int(DF7['X3'].mean()))\n",
    "DF7['X4'] = DF7['X4'].fillna(int(DF7['X4'].mean()))"
   ]
  },
  {
   "cell_type": "code",
   "execution_count": 21,
   "metadata": {},
   "outputs": [],
   "source": [
    "# DF5"
   ]
  },
  {
   "cell_type": "code",
   "execution_count": 22,
   "metadata": {},
   "outputs": [],
   "source": [
    "# tempdf = pd.DataFrame([np.random.randint(1,100)+np.random.random(1) for i in range(10)])\n",
    "# tempdf.round(1)"
   ]
  },
  {
   "cell_type": "code",
   "execution_count": 23,
   "metadata": {},
   "outputs": [],
   "source": [
    "DF3[['X1','X2','X3','X4']] = DF3[['X1','X2','X3','X4']].ffill()\n",
    "DF4[['X1','X2','X3','X4']] = DF4[['X1','X2','X3','X4']].bfill()"
   ]
  },
  {
   "cell_type": "code",
   "execution_count": 24,
   "metadata": {},
   "outputs": [],
   "source": [
    "DF7 = DF7"
   ]
  },
  {
   "cell_type": "code",
   "execution_count": 25,
   "metadata": {},
   "outputs": [],
   "source": [
    "# DF6"
   ]
  },
  {
   "cell_type": "code",
   "execution_count": 26,
   "metadata": {},
   "outputs": [],
   "source": [
    "# DF3 == DF4\n",
    "# DF2 == DF5"
   ]
  },
  {
   "cell_type": "markdown",
   "metadata": {},
   "source": [
    "DF : dropped all rows with Nan values\n",
    "Df2: threshold check, mean\n",
    "Df3: bfill\n",
    "Df4: ffill\n",
    "Df5: threshold check, median\n",
    "Df6: threshold check, linear interpolation\n",
    "Df7 : ffill, mean"
   ]
  },
  {
   "cell_type": "markdown",
   "metadata": {},
   "source": [
    "# 3. linear relationship between all things"
   ]
  },
  {
   "cell_type": "code",
   "execution_count": 27,
   "metadata": {},
   "outputs": [],
   "source": [
    "# https://machinelearningmastery.com/how-to-use-correlation-to-understand-the-relationship-between-variables/\n",
    "# np.cov?\n",
    "# cov(X, Y) = E[(X - E[X] . (Y - E[Y])]\n",
    "# cov(X, Y) = sum (x - E[X]) * (y - E[Y]) * 1/n\n",
    "# Pearson's correlation coefficient = covariance(X, Y) / (stdv(X) * stdv(Y))\n",
    "# stats.pearsonr?\n",
    "# stats.spearmanr?\n",
    "# Spearman's correlation coefficient = covariance(rank(X), rank(Y)) / (stdv(rank(X)) * stdv(rank(Y)))"
   ]
  },
  {
   "cell_type": "markdown",
   "metadata": {},
   "source": [
    "after omitting rows with Nan values ,dataframe is DF."
   ]
  },
  {
   "cell_type": "markdown",
   "metadata": {},
   "source": [
    "filling nan values with ffill in binary case and using mean in the case of discrete variables is DF7"
   ]
  },
  {
   "cell_type": "markdown",
   "metadata": {},
   "source": [
    "# a. For whole data"
   ]
  },
  {
   "cell_type": "markdown",
   "metadata": {},
   "source": [
    "#### i . AFTER OMITTING NAN VALUES"
   ]
  },
  {
   "cell_type": "code",
   "execution_count": 40,
   "metadata": {},
   "outputs": [
    {
     "data": {
      "text/plain": [
       "(762,)"
      ]
     },
     "execution_count": 40,
     "metadata": {},
     "output_type": "execute_result"
    }
   ],
   "source": [
    "# data1 = 20 * np.random.randn(1000) + 100\n",
    "# np.shape(data1)\n",
    "np.shape(Q1)"
   ]
  },
  {
   "cell_type": "code",
   "execution_count": 63,
   "metadata": {},
   "outputs": [
    {
     "name": "stdout",
     "output_type": "stream",
     "text": [
      "6\n"
     ]
    },
    {
     "data": {
      "text/plain": [
       "'Q1'"
      ]
     },
     "execution_count": 63,
     "metadata": {},
     "output_type": "execute_result"
    }
   ],
   "source": [
    "print(len(DF.columns))\n",
    "Q1 = DF['Q1'].values\n",
    "Q2 = DF['Q2'].values\n",
    "X1 = DF['X1'].values\n",
    "X2 = DF['X2'].values\n",
    "X3 = DF['X3'].values\n",
    "X4 = DF['X4'].values\n",
    "temp_cov = np.zeros([2*(len(DF.columns)),2*(len(DF.columns))])\n",
    "temp_pearsonr= np.zeros([(len(DF.columns)),(len(DF.columns))])\n",
    "temp_spearmanr= np.zeros([(len(DF.columns)),(len(DF.columns))])\n",
    "# temp_cov[0:2,0:2]\n",
    "DF.columns[0]"
   ]
  },
  {
   "cell_type": "code",
   "execution_count": null,
   "metadata": {},
   "outputs": [],
   "source": [
    "# temp_cov = [[cov(Q1,Q1),cov(Q1,Q2),cove(Q1,X1).........],\n",
    "#             [cov(Q2,Q1),cov(Q2,Q2),cov(Q2,Q3),.........],\n",
    "#             .\n",
    "#             .\n",
    "#             .\n",
    "#             .\n",
    "#             [cov(X4,Q1),cov(X4,Q2),.....................]]\n",
    "# # temp_pearsonr is similar"
   ]
  },
  {
   "cell_type": "code",
   "execution_count": 67,
   "metadata": {},
   "outputs": [],
   "source": [
    "stats.pearsonr?"
   ]
  },
  {
   "cell_type": "code",
   "execution_count": 68,
   "metadata": {},
   "outputs": [],
   "source": [
    "\n",
    "for i in range(len(DF.columns)):\n",
    "    for j in range(len(DF.columns)):\n",
    "        temp_cov[2*i:2*(i+1),2*(j):2*(1+j)] = np.cov(DF[DF.columns[i]],DF[DF.columns[j]])\n",
    "        temp_pearsonr[i,j] = stats.pearsonr(DF[DF.columns[i]],DF[DF.columns[j]])[0] #first value of it is correlation coeff\n",
    "        temp_spearmanr[i,j] = stats.spearmanr(DF[DF.columns[i]],DF[DF.columns[j]])[0]"
   ]
  },
  {
   "cell_type": "code",
   "execution_count": 69,
   "metadata": {},
   "outputs": [
    {
     "data": {
      "text/plain": [
       "(12, 12)"
      ]
     },
     "execution_count": 69,
     "metadata": {},
     "output_type": "execute_result"
    }
   ],
   "source": [
    "np.shape(temp_cov)"
   ]
  },
  {
   "cell_type": "code",
   "execution_count": 70,
   "metadata": {
    "scrolled": true
   },
   "outputs": [
    {
     "name": "stdout",
     "output_type": "stream",
     "text": [
      "[[ 2.50266434e-01  2.50266434e-01  2.50266434e-01  1.25456558e-02\n",
      "   2.50266434e-01 -2.47572082e+02  2.50266434e-01  1.81174204e+03\n",
      "   2.50266434e-01  6.60335096e+02  2.50266434e-01 -3.81405072e+02]\n",
      " [ 2.50266434e-01  2.50266434e-01  1.25456558e-02  2.50266434e-01\n",
      "  -2.47572082e+02  3.54539231e+06  1.81174204e+03  1.74839477e+07\n",
      "   6.60335096e+02  1.70395643e+07 -3.81405072e+02  9.05307647e+06]\n",
      " [ 2.50266434e-01  1.25456558e-02  2.50266434e-01  2.50266434e-01\n",
      "   2.50266434e-01 -3.05351703e+02  2.50266434e-01  7.04288188e+02\n",
      "   2.50266434e-01  1.77065702e+03  2.50266434e-01 -7.26774954e+02]\n",
      " [ 1.25456558e-02  2.50266434e-01  2.50266434e-01  2.50266434e-01\n",
      "  -3.05351703e+02  3.54539231e+06  7.04288188e+02  1.74839477e+07\n",
      "   1.77065702e+03  1.70395643e+07 -7.26774954e+02  9.05307647e+06]\n",
      " [ 3.54539231e+06 -2.47572082e+02  3.54539231e+06 -3.05351703e+02\n",
      "   3.54539231e+06  3.54539231e+06  3.54539231e+06 -3.17773740e+06\n",
      "   3.54539231e+06 -3.20202168e+06  3.54539231e+06  3.56752357e+06]\n",
      " [-2.47572082e+02  2.50266434e-01 -3.05351703e+02  2.50266434e-01\n",
      "   3.54539231e+06  3.54539231e+06 -3.17773740e+06  1.74839477e+07\n",
      "  -3.20202168e+06  1.70395643e+07  3.56752357e+06  9.05307647e+06]\n",
      " [ 1.74839477e+07  1.81174204e+03  1.74839477e+07  7.04288188e+02\n",
      "   1.74839477e+07 -3.17773740e+06  1.74839477e+07  1.74839477e+07\n",
      "   1.74839477e+07  1.04237346e+07  1.74839477e+07 -4.47239802e+06]\n",
      " [ 1.81174204e+03  2.50266434e-01  7.04288188e+02  2.50266434e-01\n",
      "  -3.17773740e+06  3.54539231e+06  1.74839477e+07  1.74839477e+07\n",
      "   1.04237346e+07  1.70395643e+07 -4.47239802e+06  9.05307647e+06]\n",
      " [ 1.70395643e+07  6.60335096e+02  1.70395643e+07  1.77065702e+03\n",
      "   1.70395643e+07 -3.20202168e+06  1.70395643e+07  1.04237346e+07\n",
      "   1.70395643e+07  1.70395643e+07  1.70395643e+07 -7.25285708e+06]\n",
      " [ 6.60335096e+02  2.50266434e-01  1.77065702e+03  2.50266434e-01\n",
      "  -3.20202168e+06  3.54539231e+06  1.04237346e+07  1.74839477e+07\n",
      "   1.70395643e+07  1.70395643e+07 -7.25285708e+06  9.05307647e+06]\n",
      " [ 9.05307647e+06 -3.81405072e+02  9.05307647e+06 -7.26774954e+02\n",
      "   9.05307647e+06  3.56752357e+06  9.05307647e+06 -4.47239802e+06\n",
      "   9.05307647e+06 -7.25285708e+06  9.05307647e+06  9.05307647e+06]\n",
      " [-3.81405072e+02  2.50266434e-01 -7.26774954e+02  2.50266434e-01\n",
      "   3.56752357e+06  3.54539231e+06 -4.47239802e+06  1.74839477e+07\n",
      "  -7.25285708e+06  1.70395643e+07  9.05307647e+06  9.05307647e+06]]\n",
      "[[ 1.          0.0501292  -0.26282593  0.8661145   0.31976714 -0.2533886 ]\n",
      " [ 0.0501292   1.         -0.32416558  0.33668933  0.85744032 -0.48283701]\n",
      " [-0.26282593 -0.32416558  1.         -0.40361389 -0.41196742  0.62970423]\n",
      " [ 0.8661145   0.33668933 -0.40361389  1.          0.60391296 -0.35548608]\n",
      " [ 0.31976714  0.85744032 -0.41196742  0.60391296  1.         -0.58395823]\n",
      " [-0.2533886  -0.48283701  0.62970423 -0.35548608 -0.58395823  1.        ]]\n",
      "[[ 1.          0.0501292  -0.17374468  0.86591887  0.247708   -0.17960397]\n",
      " [ 0.0501292   1.         -0.25412823  0.29733312  0.8659189  -0.45420396]\n",
      " [-0.17374468 -0.25412823  1.         -0.28206297 -0.28607479  0.41137951]\n",
      " [ 0.86591887  0.29733312 -0.28206297  1.          0.48373499 -0.23396473]\n",
      " [ 0.247708    0.8659189  -0.28607479  0.48373499  1.         -0.53774985]\n",
      " [-0.17960397 -0.45420396  0.41137951 -0.23396473 -0.53774985  1.        ]]\n"
     ]
    }
   ],
   "source": [
    "print(temp_cov)\n",
    "print(temp_pearsonr)\n",
    "print(temp_spearmanr)"
   ]
  },
  {
   "cell_type": "code",
   "execution_count": 77,
   "metadata": {},
   "outputs": [],
   "source": [
    "er = ((temp_pearsonr+temp_spearmanr)/2)>0.75 #strongly +vely linearly correlated ones wiht true"
   ]
  },
  {
   "cell_type": "code",
   "execution_count": 78,
   "metadata": {},
   "outputs": [],
   "source": [
    "err = ((temp_pearsonr+temp_spearmanr)/2)<-0.75 #strongly negatively correlated"
   ]
  },
  {
   "cell_type": "code",
   "execution_count": 82,
   "metadata": {},
   "outputs": [
    {
     "data": {
      "text/plain": [
       "array([[False, False, False, False, False, False],\n",
       "       [False, False, False, False, False, False],\n",
       "       [False, False, False, False, False,  True],\n",
       "       [False, False, False, False,  True, False],\n",
       "       [False, False, False,  True, False, False],\n",
       "       [False, False,  True, False, False, False]])"
      ]
     },
     "execution_count": 82,
     "metadata": {},
     "output_type": "execute_result"
    }
   ],
   "source": [
    "(((temp_pearsonr+temp_spearmanr)/2)>0.45) & (((temp_pearsonr+temp_spearmanr)/2)<0.75)  #fairly linearly correlated\n",
    "# er & err"
   ]
  },
  {
   "cell_type": "code",
   "execution_count": 83,
   "metadata": {},
   "outputs": [
    {
     "data": {
      "text/plain": [
       "array([[False,  True, False, False, False, False],\n",
       "       [ True, False, False, False, False, False],\n",
       "       [False, False, False, False, False, False],\n",
       "       [False, False, False, False, False, False],\n",
       "       [False, False, False, False, False, False],\n",
       "       [False, False, False, False, False, False]])"
      ]
     },
     "execution_count": 83,
     "metadata": {},
     "output_type": "execute_result"
    }
   ],
   "source": [
    "(((temp_pearsonr+temp_spearmanr)/2)<0.1) & (((temp_pearsonr+temp_spearmanr)/2)>-0.1) #barely(not at all) linearly correlated ones wiht true"
   ]
  },
  {
   "cell_type": "code",
   "execution_count": 84,
   "metadata": {},
   "outputs": [
    {
     "data": {
      "text/plain": [
       "array([[False, False, False, False, False, False],\n",
       "       [False, False, False, False, False,  True],\n",
       "       [False, False, False, False, False, False],\n",
       "       [False, False, False, False, False, False],\n",
       "       [False, False, False, False, False,  True],\n",
       "       [False,  True, False, False,  True, False]])"
      ]
     },
     "execution_count": 84,
     "metadata": {},
     "output_type": "execute_result"
    }
   ],
   "source": [
    "(((temp_pearsonr+temp_spearmanr)/2)<-0.45) & (((temp_pearsonr+temp_spearmanr)/2)>-0.75)  ##fairly linearly negatively correlated"
   ]
  },
  {
   "cell_type": "markdown",
   "metadata": {},
   "source": [
    "### ii. for filled Dataframe"
   ]
  },
  {
   "cell_type": "code",
   "execution_count": 85,
   "metadata": {},
   "outputs": [],
   "source": [
    "Q1 = DF7['Q1'].values\n",
    "Q2 = DF7['Q2'].values\n",
    "X1 = DF7['X1'].values\n",
    "X2 = DF7['X2'].values\n",
    "X3 = DF7['X3'].values\n",
    "X4 = DF7['X4'].values\n",
    "temp_cov = np.zeros([2*(len(DF7.columns)),2*(len(DF7.columns))])\n",
    "temp_pearsonr= np.zeros([(len(DF7.columns)),(len(DF7.columns))])\n",
    "for i in range(len(DF7.columns)):\n",
    "    for j in range(len(DF7.columns)):\n",
    "        temp_cov[2*i:2*(i+1),2*(j):2*(1+j)] = np.cov(DF7[DF7.columns[i]],DF7[DF7.columns[j]])\n",
    "        temp_pearsonr[i,j] = stats.pearsonr(DF7[DF7.columns[i]],DF7[DF7.columns[j]])[0] #first value of it is correlation coeff\n",
    "        temp_spearmanr[i,j] = stats.spearmanr(DF7[DF7.columns[i]],DF7[DF7.columns[j]])[0]"
   ]
  },
  {
   "cell_type": "markdown",
   "metadata": {},
   "source": [
    "# B. IF THERE IS NO MATCH FOR BOTH CSK AND MI"
   ]
  },
  {
   "cell_type": "code",
   "execution_count": 86,
   "metadata": {},
   "outputs": [],
   "source": [
    "## for filled datframe"
   ]
  },
  {
   "cell_type": "code",
   "execution_count": 92,
   "metadata": {},
   "outputs": [],
   "source": [
    "Df = DF.where((DF['Q1'] == 0) & (DF['Q2'] == 0)).dropna() #similar for other things"
   ]
  },
  {
   "cell_type": "code",
   "execution_count": 95,
   "metadata": {},
   "outputs": [],
   "source": [
    "Df.shape #200 matches where none of both played\n",
    "DF = Df.copy()"
   ]
  },
  {
   "cell_type": "code",
   "execution_count": 96,
   "metadata": {},
   "outputs": [
    {
     "name": "stderr",
     "output_type": "stream",
     "text": [
      "C:\\Users\\sudhe\\Anaconda3\\lib\\site-packages\\scipy\\stats\\stats.py:3010: RuntimeWarning: invalid value encountered in double_scalars\n",
      "  r = r_num / r_den\n",
      "C:\\Users\\sudhe\\Anaconda3\\lib\\site-packages\\scipy\\stats\\stats.py:5256: RuntimeWarning: invalid value encountered in less\n",
      "  x = np.where(x < 1.0, x, 1.0)  # if x > 1 then return 1.0\n",
      "C:\\Users\\sudhe\\Anaconda3\\lib\\site-packages\\numpy\\lib\\function_base.py:2530: RuntimeWarning: invalid value encountered in true_divide\n",
      "  c /= stddev[:, None]\n",
      "C:\\Users\\sudhe\\Anaconda3\\lib\\site-packages\\scipy\\stats\\_distn_infrastructure.py:879: RuntimeWarning: invalid value encountered in greater\n",
      "  return (self.a < x) & (x < self.b)\n",
      "C:\\Users\\sudhe\\Anaconda3\\lib\\site-packages\\scipy\\stats\\_distn_infrastructure.py:879: RuntimeWarning: invalid value encountered in less\n",
      "  return (self.a < x) & (x < self.b)\n",
      "C:\\Users\\sudhe\\Anaconda3\\lib\\site-packages\\scipy\\stats\\_distn_infrastructure.py:1821: RuntimeWarning: invalid value encountered in less_equal\n",
      "  cond2 = cond0 & (x <= self.a)\n",
      "C:\\Users\\sudhe\\Anaconda3\\lib\\site-packages\\numpy\\lib\\function_base.py:2531: RuntimeWarning: invalid value encountered in true_divide\n",
      "  c /= stddev[None, :]\n"
     ]
    }
   ],
   "source": [
    "Q1 = DF['Q1'].values\n",
    "Q2 = DF['Q2'].values\n",
    "X1 = DF['X1'].values\n",
    "X2 = DF['X2'].values\n",
    "X3 = DF['X3'].values\n",
    "X4 = DF['X4'].values\n",
    "temp_cov = np.zeros([2*(len(DF.columns)),2*(len(DF.columns))])\n",
    "temp_pearsonr= np.zeros([(len(DF.columns)),(len(DF.columns))])\n",
    "temp_spearmanr= np.zeros([(len(DF.columns)),(len(DF.columns))])\n",
    "for i in range(len(DF.columns)):\n",
    "    for j in range(len(DF.columns)):\n",
    "        temp_cov[2*i:2*(i+1),2*(j):2*(1+j)] = np.cov(DF[DF.columns[i]],DF[DF.columns[j]])\n",
    "        temp_pearsonr[i,j] = stats.pearsonr(DF[DF.columns[i]],DF[DF.columns[j]])[0] #first value of it is correlation coeff\n",
    "        temp_spearmanr[i,j] = stats.spearmanr(DF[DF.columns[i]],DF[DF.columns[j]])[0]"
   ]
  },
  {
   "cell_type": "code",
   "execution_count": 97,
   "metadata": {},
   "outputs": [
    {
     "name": "stdout",
     "output_type": "stream",
     "text": [
      "\n",
      " strongly +vely linearly correlated ones wiht true \n",
      "\n",
      "[[False False False False False False]\n",
      " [False False False False False False]\n",
      " [False False  True False False  True]\n",
      " [False False False  True False False]\n",
      " [False False False False  True False]\n",
      " [False False  True False False  True]]\n",
      "\n",
      " strongly negatively correlated \n",
      "\n",
      "[[False False False False False False]\n",
      " [False False False False False False]\n",
      " [False False False False False False]\n",
      " [False False False False False False]\n",
      " [False False False False False False]\n",
      " [False False False False False False]]\n",
      "\n",
      " fairly linearly correlated \n",
      "\n",
      "[[False False False False False False]\n",
      " [False False False False False False]\n",
      " [False False False False False False]\n",
      " [False False False False False  True]\n",
      " [False False False False False False]\n",
      " [False False False  True False False]]\n",
      "\n",
      " barely(not at all) linearly correlated ones wiht true \n",
      "\n",
      "[[False False False False False False]\n",
      " [False False False False False False]\n",
      " [False False False  True False False]\n",
      " [False False  True False  True False]\n",
      " [False False False  True False False]\n",
      " [False False False False False False]]\n",
      "\n",
      " fairly linearly negatively correlated \n",
      "\n",
      "[[False False False False False False]\n",
      " [False False False False False False]\n",
      " [False False False False False False]\n",
      " [False False False False False False]\n",
      " [False False False False False False]\n",
      " [False False False False False False]]\n"
     ]
    },
    {
     "name": "stderr",
     "output_type": "stream",
     "text": [
      "C:\\Users\\sudhe\\Anaconda3\\lib\\site-packages\\ipykernel_launcher.py:2: RuntimeWarning: invalid value encountered in greater\n",
      "  \n",
      "C:\\Users\\sudhe\\Anaconda3\\lib\\site-packages\\ipykernel_launcher.py:4: RuntimeWarning: invalid value encountered in less\n",
      "  after removing the cwd from sys.path.\n",
      "C:\\Users\\sudhe\\Anaconda3\\lib\\site-packages\\ipykernel_launcher.py:7: RuntimeWarning: invalid value encountered in greater\n",
      "  import sys\n",
      "C:\\Users\\sudhe\\Anaconda3\\lib\\site-packages\\ipykernel_launcher.py:7: RuntimeWarning: invalid value encountered in less\n",
      "  import sys\n",
      "C:\\Users\\sudhe\\Anaconda3\\lib\\site-packages\\ipykernel_launcher.py:9: RuntimeWarning: invalid value encountered in less\n",
      "  if __name__ == '__main__':\n",
      "C:\\Users\\sudhe\\Anaconda3\\lib\\site-packages\\ipykernel_launcher.py:9: RuntimeWarning: invalid value encountered in greater\n",
      "  if __name__ == '__main__':\n",
      "C:\\Users\\sudhe\\Anaconda3\\lib\\site-packages\\ipykernel_launcher.py:11: RuntimeWarning: invalid value encountered in less\n",
      "  # This is added back by InteractiveShellApp.init_path()\n",
      "C:\\Users\\sudhe\\Anaconda3\\lib\\site-packages\\ipykernel_launcher.py:11: RuntimeWarning: invalid value encountered in greater\n",
      "  # This is added back by InteractiveShellApp.init_path()\n"
     ]
    }
   ],
   "source": [
    "print('\\n strongly +vely linearly correlated ones wiht true \\n')\n",
    "print(((temp_pearsonr+temp_spearmanr)/2)>0.75) #strongly +vely linearly correlated ones wiht true\n",
    "print('\\n strongly negatively correlated \\n')\n",
    "print(((temp_pearsonr+temp_spearmanr)/2)<-0.75)\n",
    " #strongly negatively correlated\n",
    "print('\\n fairly linearly correlated \\n')\n",
    "print((((temp_pearsonr+temp_spearmanr)/2)>0.45) & (((temp_pearsonr+temp_spearmanr)/2)<0.75))\n",
    "print('\\n barely(not at all) linearly correlated ones wiht true \\n')\n",
    "print((((temp_pearsonr+temp_spearmanr)/2)<0.1) & (((temp_pearsonr+temp_spearmanr)/2)>-0.1))\n",
    "print('\\n fairly linearly negatively correlated \\n')\n",
    "print((((temp_pearsonr+temp_spearmanr)/2)<-0.45) & (((temp_pearsonr+temp_spearmanr)/2)>-0.75))\n",
    "  ##\n",
    "\n"
   ]
  },
  {
   "cell_type": "code",
   "execution_count": null,
   "metadata": {},
   "outputs": [],
   "source": []
  }
 ],
 "metadata": {
  "kernelspec": {
   "display_name": "Python 3",
   "language": "python",
   "name": "python3"
  },
  "language_info": {
   "codemirror_mode": {
    "name": "ipython",
    "version": 3
   },
   "file_extension": ".py",
   "mimetype": "text/x-python",
   "name": "python",
   "nbconvert_exporter": "python",
   "pygments_lexer": "ipython3",
   "version": "3.6.5"
  }
 },
 "nbformat": 4,
 "nbformat_minor": 2
}
